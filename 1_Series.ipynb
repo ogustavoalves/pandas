{
  "cells": [
    {
      "cell_type": "markdown",
      "metadata": {
        "id": "Twj4xmpYoHr0"
      },
      "source": [
        "# Curso Pandas - IA Expert Academy"
      ]
    },
    {
      "cell_type": "markdown",
      "metadata": {
        "id": "sqal98MhpMlE"
      },
      "source": [
        "### Comandos necessários ao curso\n",
        "- instalação das bibliotecas: Pandas, Numpy e Faker;\n",
        "- importação dos módulos das bibliotecas citadas.\n",
        "- leitura do arquivo csv usado no curso ('census.csv')\n",
        "\n",
        "Para usar o notebook com a serie `serie_idade_nome` execute as proximas linhas de código e garanta que o aruivo `census.csv` foi carregado à plataforma."
      ]
    },
    {
      "cell_type": "code",
      "execution_count": 3,
      "metadata": {
        "colab": {
          "base_uri": "https://localhost:8080/"
        },
        "collapsed": true,
        "id": "AAHaYbapnvoc",
        "outputId": "fc5c8baf-f782-432b-8b07-4d6e6035a33a"
      },
      "outputs": [
        {
          "name": "stdout",
          "output_type": "stream",
          "text": [
            "Requirement already satisfied: pandas in c:\\users\\gusta\\appdata\\roaming\\python\\python312\\site-packages (2.2.3)\n",
            "Requirement already satisfied: numpy>=1.26.0 in c:\\users\\gusta\\anaconda3\\lib\\site-packages (from pandas) (1.26.4)\n",
            "Requirement already satisfied: python-dateutil>=2.8.2 in c:\\users\\gusta\\appdata\\roaming\\python\\python312\\site-packages (from pandas) (2.9.0.post0)\n",
            "Requirement already satisfied: pytz>=2020.1 in c:\\users\\gusta\\appdata\\roaming\\python\\python312\\site-packages (from pandas) (2024.2)\n",
            "Requirement already satisfied: tzdata>=2022.7 in c:\\users\\gusta\\appdata\\roaming\\python\\python312\\site-packages (from pandas) (2025.1)\n",
            "Requirement already satisfied: six>=1.5 in c:\\users\\gusta\\appdata\\roaming\\python\\python312\\site-packages (from python-dateutil>=2.8.2->pandas) (1.17.0)\n",
            "Requirement already satisfied: numpy in c:\\users\\gusta\\anaconda3\\lib\\site-packages (1.26.4)\n",
            "Collecting Faker\n",
            "  Downloading Faker-36.1.1-py3-none-any.whl.metadata (15 kB)\n",
            "Requirement already satisfied: tzdata in c:\\users\\gusta\\appdata\\roaming\\python\\python312\\site-packages (from Faker) (2025.1)\n",
            "Downloading Faker-36.1.1-py3-none-any.whl (1.9 MB)\n",
            "   ---------------------------------------- 0.0/1.9 MB ? eta -:--:--\n",
            "   ---------------------------------------- 1.9/1.9 MB 17.6 MB/s eta 0:00:00\n",
            "Installing collected packages: Faker\n",
            "Successfully installed Faker-36.1.1\n"
          ]
        }
      ],
      "source": [
        "!pip install pandas\n",
        "!pip install numpy\n",
        "!pip install Faker"
      ]
    },
    {
      "cell_type": "code",
      "execution_count": 4,
      "metadata": {
        "id": "hULb6tnFoV4O"
      },
      "outputs": [],
      "source": [
        "from faker import Faker\n",
        "import pandas as pd\n",
        "import numpy as np\n",
        "\n",
        "faker = Faker()"
      ]
    },
    {
      "cell_type": "markdown",
      "metadata": {
        "id": "1q6uNdaBV6pL"
      },
      "source": [
        "Para criar uma Serie de países, com valores do tipo string:"
      ]
    },
    {
      "cell_type": "code",
      "execution_count": null,
      "metadata": {
        "id": "0XX5YVu7p3sE"
      },
      "outputs": [],
      "source": [
        "country_index = [faker.country() for _ in range(32561)]"
      ]
    },
    {
      "cell_type": "code",
      "execution_count": null,
      "metadata": {
        "id": "xv_j2nfeq7XC"
      },
      "outputs": [],
      "source": [
        "serie_pais = pd.Series(country_index)"
      ]
    },
    {
      "cell_type": "markdown",
      "metadata": {
        "id": "ZkQWQA4cR33x"
      },
      "source": [
        "Antes de executar a proxima linha, faça o upload de `census.csv`"
      ]
    },
    {
      "cell_type": "code",
      "execution_count": 5,
      "metadata": {
        "id": "jdhd9UKEobPA"
      },
      "outputs": [],
      "source": [
        "dataset_census = pd.read_csv('./datasets/census.csv')"
      ]
    },
    {
      "cell_type": "markdown",
      "metadata": {
        "id": "NifzRoJWWLJo"
      },
      "source": [
        "Para criar uma Serie de idades onde os valores são do tipo numérico:"
      ]
    },
    {
      "cell_type": "code",
      "execution_count": null,
      "metadata": {
        "id": "XVLb8sTsWAws"
      },
      "outputs": [],
      "source": [
        "serie_idades = pd.Series(np.array(dataset_census['age']))"
      ]
    },
    {
      "cell_type": "markdown",
      "metadata": {
        "id": "6vkUlYXkrDn-"
      },
      "source": [
        "## Acessando Elementos com LOC\n"
      ]
    },
    {
      "cell_type": "markdown",
      "metadata": {
        "id": "balPAqzb7E8u"
      },
      "source": [
        "#### Introdução\n",
        "O `loc` é um método de acessar os elementos através dos indices sendo esses, strings. Ao acessar um indice com o loc, o retorno será seu valor -- no caso desse exemplo, a idade."
      ]
    },
    {
      "cell_type": "markdown",
      "metadata": {
        "id": "jviwKUybr9wb"
      },
      "source": [
        "O comando abaixo retorna a idade de \"Mr. Paul Mitchell\"."
      ]
    },
    {
      "cell_type": "code",
      "execution_count": null,
      "metadata": {
        "id": "jlFsVQcSrQ2N"
      },
      "outputs": [],
      "source": [
        "serie_idades_nome.loc['Mr. Paul Mitchell']"
      ]
    },
    {
      "cell_type": "markdown",
      "metadata": {
        "id": "RNhLR6C6sO8l"
      },
      "source": [
        "É possível, assim como fazemos com indices por números (iloc), retornar valores num determinado intervalo. Mas, como nesse caso são strings, podem haver duplicatas e isso retornará um erro.\n",
        "Para usar o retorno de intervalos com loc é preciso eliminar duplicatas antes, usando `drop_duplicates()` e criado uma nova série."
      ]
    },
    {
      "cell_type": "code",
      "execution_count": null,
      "metadata": {
        "id": "kU_TJkXSsqka"
      },
      "outputs": [],
      "source": [
        "serie_idades_nomeII = serie_idades_nome.drop_duplicates()"
      ]
    },
    {
      "cell_type": "code",
      "execution_count": null,
      "metadata": {
        "colab": {
          "base_uri": "https://localhost:8080/",
          "height": 458
        },
        "collapsed": true,
        "id": "UoP57F7QtKN1",
        "outputId": "7c307eb8-4fd3-457a-db4a-340178c50bfe"
      },
      "outputs": [
        {
          "data": {
            "text/html": [
              "<div>\n",
              "<style scoped>\n",
              "    .dataframe tbody tr th:only-of-type {\n",
              "        vertical-align: middle;\n",
              "    }\n",
              "\n",
              "    .dataframe tbody tr th {\n",
              "        vertical-align: top;\n",
              "    }\n",
              "\n",
              "    .dataframe thead th {\n",
              "        text-align: right;\n",
              "    }\n",
              "</style>\n",
              "<table border=\"1\" class=\"dataframe\">\n",
              "  <thead>\n",
              "    <tr style=\"text-align: right;\">\n",
              "      <th></th>\n",
              "      <th>0</th>\n",
              "    </tr>\n",
              "  </thead>\n",
              "  <tbody>\n",
              "    <tr>\n",
              "      <th>Kyle Valdez</th>\n",
              "      <td>39</td>\n",
              "    </tr>\n",
              "    <tr>\n",
              "      <th>Mr. Paul Mitchell</th>\n",
              "      <td>50</td>\n",
              "    </tr>\n",
              "    <tr>\n",
              "      <th>Leslie Stanton</th>\n",
              "      <td>38</td>\n",
              "    </tr>\n",
              "    <tr>\n",
              "      <th>Marcus Campbell</th>\n",
              "      <td>53</td>\n",
              "    </tr>\n",
              "    <tr>\n",
              "      <th>Christie Perkins</th>\n",
              "      <td>28</td>\n",
              "    </tr>\n",
              "    <tr>\n",
              "      <th>...</th>\n",
              "      <td>...</td>\n",
              "    </tr>\n",
              "    <tr>\n",
              "      <th>Michael Lambert</th>\n",
              "      <td>83</td>\n",
              "    </tr>\n",
              "    <tr>\n",
              "      <th>James Beltran</th>\n",
              "      <td>84</td>\n",
              "    </tr>\n",
              "    <tr>\n",
              "      <th>Daniel Brennan</th>\n",
              "      <td>85</td>\n",
              "    </tr>\n",
              "    <tr>\n",
              "      <th>William Hughes</th>\n",
              "      <td>86</td>\n",
              "    </tr>\n",
              "    <tr>\n",
              "      <th>Kayla Rodriguez</th>\n",
              "      <td>87</td>\n",
              "    </tr>\n",
              "  </tbody>\n",
              "</table>\n",
              "<p>73 rows × 1 columns</p>\n",
              "</div><br><label><b>dtype:</b> int64</label>"
            ],
            "text/plain": [
              "Kyle Valdez          39\n",
              "Mr. Paul Mitchell    50\n",
              "Leslie Stanton       38\n",
              "Marcus Campbell      53\n",
              "Christie Perkins     28\n",
              "                     ..\n",
              "Michael Lambert      83\n",
              "James Beltran        84\n",
              "Daniel Brennan       85\n",
              "William Hughes       86\n",
              "Kayla Rodriguez      87\n",
              "Length: 73, dtype: int64"
            ]
          },
          "execution_count": 20,
          "metadata": {},
          "output_type": "execute_result"
        }
      ],
      "source": [
        "serie_idades_nomeII"
      ]
    },
    {
      "cell_type": "code",
      "execution_count": null,
      "metadata": {
        "colab": {
          "base_uri": "https://localhost:8080/",
          "height": 458
        },
        "collapsed": true,
        "id": "UftT5dSWswT8",
        "outputId": "2b158a50-3701-49be-b70a-6a54e9c3f2c6"
      },
      "outputs": [
        {
          "data": {
            "text/html": [
              "<div>\n",
              "<style scoped>\n",
              "    .dataframe tbody tr th:only-of-type {\n",
              "        vertical-align: middle;\n",
              "    }\n",
              "\n",
              "    .dataframe tbody tr th {\n",
              "        vertical-align: top;\n",
              "    }\n",
              "\n",
              "    .dataframe thead th {\n",
              "        text-align: right;\n",
              "    }\n",
              "</style>\n",
              "<table border=\"1\" class=\"dataframe\">\n",
              "  <thead>\n",
              "    <tr style=\"text-align: right;\">\n",
              "      <th></th>\n",
              "      <th>0</th>\n",
              "    </tr>\n",
              "  </thead>\n",
              "  <tbody>\n",
              "    <tr>\n",
              "      <th>Leslie Stanton</th>\n",
              "      <td>38</td>\n",
              "    </tr>\n",
              "    <tr>\n",
              "      <th>Marcus Campbell</th>\n",
              "      <td>53</td>\n",
              "    </tr>\n",
              "    <tr>\n",
              "      <th>Christie Perkins</th>\n",
              "      <td>28</td>\n",
              "    </tr>\n",
              "    <tr>\n",
              "      <th>Lori Hernandez</th>\n",
              "      <td>37</td>\n",
              "    </tr>\n",
              "    <tr>\n",
              "      <th>Desiree Novak</th>\n",
              "      <td>49</td>\n",
              "    </tr>\n",
              "    <tr>\n",
              "      <th>...</th>\n",
              "      <td>...</td>\n",
              "    </tr>\n",
              "    <tr>\n",
              "      <th>Paul Hogan</th>\n",
              "      <td>81</td>\n",
              "    </tr>\n",
              "    <tr>\n",
              "      <th>Rebecca Johnson</th>\n",
              "      <td>78</td>\n",
              "    </tr>\n",
              "    <tr>\n",
              "      <th>Sally Mason</th>\n",
              "      <td>88</td>\n",
              "    </tr>\n",
              "    <tr>\n",
              "      <th>Michael Matthews</th>\n",
              "      <td>82</td>\n",
              "    </tr>\n",
              "    <tr>\n",
              "      <th>Michael Lambert</th>\n",
              "      <td>83</td>\n",
              "    </tr>\n",
              "  </tbody>\n",
              "</table>\n",
              "<p>67 rows × 1 columns</p>\n",
              "</div><br><label><b>dtype:</b> int64</label>"
            ],
            "text/plain": [
              "Leslie Stanton      38\n",
              "Marcus Campbell     53\n",
              "Christie Perkins    28\n",
              "Lori Hernandez      37\n",
              "Desiree Novak       49\n",
              "                    ..\n",
              "Paul Hogan          81\n",
              "Rebecca Johnson     78\n",
              "Sally Mason         88\n",
              "Michael Matthews    82\n",
              "Michael Lambert     83\n",
              "Length: 67, dtype: int64"
            ]
          },
          "execution_count": 21,
          "metadata": {},
          "output_type": "execute_result"
        }
      ],
      "source": [
        "serie_idades_nomeII.loc[\"Leslie Stanton\":\"Michael Lambert\"]"
      ]
    },
    {
      "cell_type": "markdown",
      "metadata": {
        "id": "K5soV6wzorlf"
      },
      "source": [
        "## Ordenação (Series)\n"
      ]
    },
    {
      "cell_type": "markdown",
      "metadata": {
        "id": "p-umnxGBUZbk"
      },
      "source": [
        "Series, sendo compostas por duas colunas, uma de valor e outra de indice, podem ser ordenadas usando `sort_values()` e `sort_index()`"
      ]
    },
    {
      "cell_type": "code",
      "execution_count": null,
      "metadata": {
        "id": "ySFCU5_RWnUI"
      },
      "outputs": [],
      "source": [
        "serie_idades_nomeII = serie_idades_nome.drop_duplicates()"
      ]
    },
    {
      "cell_type": "code",
      "execution_count": null,
      "metadata": {
        "collapsed": true,
        "id": "HAOduicOpxLE"
      },
      "outputs": [],
      "source": [
        "serie_idades_nomeII.sort_values()"
      ]
    },
    {
      "cell_type": "code",
      "execution_count": null,
      "metadata": {
        "id": "KsbeWud4VC_a"
      },
      "outputs": [],
      "source": [
        "serie_idades_nomeII.sort_index()"
      ]
    },
    {
      "cell_type": "markdown",
      "metadata": {
        "id": "oIGcqpumVFBa"
      },
      "source": [
        "É possível alterar a forma de organizar os registros de forma ascentente ou descendente usando o parâmetro `ascending` que pode assumir dois valores `True` ou `Falso` de modo que o padrão é True e, um `ascending = False` torna o retorno descendente."
      ]
    },
    {
      "cell_type": "code",
      "execution_count": null,
      "metadata": {
        "colab": {
          "base_uri": "https://localhost:8080/",
          "height": 458
        },
        "collapsed": true,
        "id": "uDDJVIDFVo33",
        "outputId": "a6ae8a73-fc62-45eb-d2e7-58da3c200659"
      },
      "outputs": [
        {
          "data": {
            "text/html": [
              "<div>\n",
              "<style scoped>\n",
              "    .dataframe tbody tr th:only-of-type {\n",
              "        vertical-align: middle;\n",
              "    }\n",
              "\n",
              "    .dataframe tbody tr th {\n",
              "        vertical-align: top;\n",
              "    }\n",
              "\n",
              "    .dataframe thead th {\n",
              "        text-align: right;\n",
              "    }\n",
              "</style>\n",
              "<table border=\"1\" class=\"dataframe\">\n",
              "  <thead>\n",
              "    <tr style=\"text-align: right;\">\n",
              "      <th></th>\n",
              "      <th>0</th>\n",
              "    </tr>\n",
              "  </thead>\n",
              "  <tbody>\n",
              "    <tr>\n",
              "      <th>Blake Adkins</th>\n",
              "      <td>90</td>\n",
              "    </tr>\n",
              "    <tr>\n",
              "      <th>Joshua Allison</th>\n",
              "      <td>88</td>\n",
              "    </tr>\n",
              "    <tr>\n",
              "      <th>Alexandria Campbell</th>\n",
              "      <td>87</td>\n",
              "    </tr>\n",
              "    <tr>\n",
              "      <th>Elizabeth Clark</th>\n",
              "      <td>86</td>\n",
              "    </tr>\n",
              "    <tr>\n",
              "      <th>Damon Martinez</th>\n",
              "      <td>85</td>\n",
              "    </tr>\n",
              "    <tr>\n",
              "      <th>...</th>\n",
              "      <td>...</td>\n",
              "    </tr>\n",
              "    <tr>\n",
              "      <th>Erik Herrera</th>\n",
              "      <td>21</td>\n",
              "    </tr>\n",
              "    <tr>\n",
              "      <th>Lori Butler</th>\n",
              "      <td>20</td>\n",
              "    </tr>\n",
              "    <tr>\n",
              "      <th>Stephanie Oneal</th>\n",
              "      <td>19</td>\n",
              "    </tr>\n",
              "    <tr>\n",
              "      <th>Amy Haynes</th>\n",
              "      <td>18</td>\n",
              "    </tr>\n",
              "    <tr>\n",
              "      <th>Michael Ward</th>\n",
              "      <td>17</td>\n",
              "    </tr>\n",
              "  </tbody>\n",
              "</table>\n",
              "<p>73 rows × 1 columns</p>\n",
              "</div><br><label><b>dtype:</b> int64</label>"
            ],
            "text/plain": [
              "Blake Adkins           90\n",
              "Joshua Allison         88\n",
              "Alexandria Campbell    87\n",
              "Elizabeth Clark        86\n",
              "Damon Martinez         85\n",
              "                       ..\n",
              "Erik Herrera           21\n",
              "Lori Butler            20\n",
              "Stephanie Oneal        19\n",
              "Amy Haynes             18\n",
              "Michael Ward           17\n",
              "Length: 73, dtype: int64"
            ]
          },
          "execution_count": 19,
          "metadata": {},
          "output_type": "execute_result"
        }
      ],
      "source": [
        "serie_idades_nomeII.sort_values(ascending = False)"
      ]
    },
    {
      "cell_type": "markdown",
      "metadata": {
        "id": "2xKZXoAwXfqY"
      },
      "source": [
        "Usando ordenação e iloc é possível, por exemplo, retornar os 15 registros de maiores valores (como no caso do exemplo os registros são idades, retorna-se as 15 maiores idades na Serie)."
      ]
    },
    {
      "cell_type": "code",
      "execution_count": null,
      "metadata": {
        "id": "CyCcK_8KXvKD"
      },
      "outputs": [],
      "source": [
        "serie_15_idades = serie_idades_nomeII.sort_values(ascending = False).iloc[:15]"
      ]
    },
    {
      "cell_type": "code",
      "execution_count": null,
      "metadata": {
        "colab": {
          "base_uri": "https://localhost:8080/"
        },
        "id": "GCKYk39UYAkk",
        "outputId": "68a4f080-57da-4b35-9af4-73f8518ea60e"
      },
      "outputs": [
        {
          "data": {
            "text/plain": [
              "15"
            ]
          },
          "execution_count": 27,
          "metadata": {},
          "output_type": "execute_result"
        }
      ],
      "source": [
        "serie_15_idades.size"
      ]
    },
    {
      "cell_type": "markdown",
      "metadata": {
        "id": "1y7X4jFvpA7d"
      },
      "source": [
        "## Contagem (Series)\n"
      ]
    },
    {
      "cell_type": "markdown",
      "metadata": {
        "id": "AWkXBVRNRFOl"
      },
      "source": [
        "#### Método size\n",
        "\n",
        "Usando `Serie.size` temos como retorno o número de registro na Serie"
      ]
    },
    {
      "cell_type": "code",
      "execution_count": null,
      "metadata": {
        "colab": {
          "base_uri": "https://localhost:8080/"
        },
        "id": "F-GlxKa1_rkQ",
        "outputId": "f28d7615-f4a6-4a6b-a967-edc1912dd952"
      },
      "outputs": [
        {
          "data": {
            "text/plain": [
              "32561"
            ]
          },
          "execution_count": 11,
          "metadata": {},
          "output_type": "execute_result"
        }
      ],
      "source": [
        "serie_pais.size"
      ]
    },
    {
      "cell_type": "markdown",
      "metadata": {
        "id": "_qUH_sWqtZv-"
      },
      "source": [
        "#### Método value_count\n",
        "Esse método agrupa os tipos diferentes de valores e dá suas quantidades. Ex: como estamos usando uma Serie de países, ele agrupara os países e retornará quantas vezes cada um aparece."
      ]
    },
    {
      "cell_type": "code",
      "execution_count": null,
      "metadata": {
        "colab": {
          "base_uri": "https://localhost:8080/",
          "height": 458
        },
        "collapsed": true,
        "id": "7eVibdeOtZId",
        "outputId": "5ef58247-2a4a-485a-c008-a10d044b1cdf"
      },
      "outputs": [
        {
          "data": {
            "text/html": [
              "<div>\n",
              "<style scoped>\n",
              "    .dataframe tbody tr th:only-of-type {\n",
              "        vertical-align: middle;\n",
              "    }\n",
              "\n",
              "    .dataframe tbody tr th {\n",
              "        vertical-align: top;\n",
              "    }\n",
              "\n",
              "    .dataframe thead th {\n",
              "        text-align: right;\n",
              "    }\n",
              "</style>\n",
              "<table border=\"1\" class=\"dataframe\">\n",
              "  <thead>\n",
              "    <tr style=\"text-align: right;\">\n",
              "      <th></th>\n",
              "      <th>count</th>\n",
              "    </tr>\n",
              "  </thead>\n",
              "  <tbody>\n",
              "    <tr>\n",
              "      <th>Korea</th>\n",
              "      <td>253</td>\n",
              "    </tr>\n",
              "    <tr>\n",
              "      <th>Congo</th>\n",
              "      <td>244</td>\n",
              "    </tr>\n",
              "    <tr>\n",
              "      <th>Poland</th>\n",
              "      <td>168</td>\n",
              "    </tr>\n",
              "    <tr>\n",
              "      <th>Cayman Islands</th>\n",
              "      <td>161</td>\n",
              "    </tr>\n",
              "    <tr>\n",
              "      <th>Svalbard &amp; Jan Mayen Islands</th>\n",
              "      <td>158</td>\n",
              "    </tr>\n",
              "    <tr>\n",
              "      <th>...</th>\n",
              "      <td>...</td>\n",
              "    </tr>\n",
              "    <tr>\n",
              "      <th>Solomon Islands</th>\n",
              "      <td>109</td>\n",
              "    </tr>\n",
              "    <tr>\n",
              "      <th>Swaziland</th>\n",
              "      <td>108</td>\n",
              "    </tr>\n",
              "    <tr>\n",
              "      <th>Tajikistan</th>\n",
              "      <td>107</td>\n",
              "    </tr>\n",
              "    <tr>\n",
              "      <th>Bhutan</th>\n",
              "      <td>105</td>\n",
              "    </tr>\n",
              "    <tr>\n",
              "      <th>Armenia</th>\n",
              "      <td>101</td>\n",
              "    </tr>\n",
              "  </tbody>\n",
              "</table>\n",
              "<p>243 rows × 1 columns</p>\n",
              "</div><br><label><b>dtype:</b> int64</label>"
            ],
            "text/plain": [
              "Korea                           253\n",
              "Congo                           244\n",
              "Poland                          168\n",
              "Cayman Islands                  161\n",
              "Svalbard & Jan Mayen Islands    158\n",
              "                               ... \n",
              "Solomon Islands                 109\n",
              "Swaziland                       108\n",
              "Tajikistan                      107\n",
              "Bhutan                          105\n",
              "Armenia                         101\n",
              "Name: count, Length: 243, dtype: int64"
            ]
          },
          "execution_count": 28,
          "metadata": {},
          "output_type": "execute_result"
        }
      ],
      "source": [
        "serie_pais.value_counts()"
      ]
    },
    {
      "cell_type": "markdown",
      "metadata": {
        "id": "Wvm4xD1XWpJd"
      },
      "source": [
        "Por padrão, o método retorna os elementos de forma ordenada de forma decrescentem, mas é possível desativar isso com o parâmetro Serie.value_counts(`sort = False`)"
      ]
    },
    {
      "cell_type": "code",
      "execution_count": null,
      "metadata": {
        "colab": {
          "base_uri": "https://localhost:8080/",
          "height": 458
        },
        "collapsed": true,
        "id": "9o64mp8XW8ks",
        "outputId": "ada2644c-a1fd-407b-8c8c-75e893939832"
      },
      "outputs": [
        {
          "data": {
            "text/html": [
              "<div>\n",
              "<style scoped>\n",
              "    .dataframe tbody tr th:only-of-type {\n",
              "        vertical-align: middle;\n",
              "    }\n",
              "\n",
              "    .dataframe tbody tr th {\n",
              "        vertical-align: top;\n",
              "    }\n",
              "\n",
              "    .dataframe thead th {\n",
              "        text-align: right;\n",
              "    }\n",
              "</style>\n",
              "<table border=\"1\" class=\"dataframe\">\n",
              "  <thead>\n",
              "    <tr style=\"text-align: right;\">\n",
              "      <th></th>\n",
              "      <th>count</th>\n",
              "    </tr>\n",
              "  </thead>\n",
              "  <tbody>\n",
              "    <tr>\n",
              "      <th>Azerbaijan</th>\n",
              "      <td>128</td>\n",
              "    </tr>\n",
              "    <tr>\n",
              "      <th>Iceland</th>\n",
              "      <td>134</td>\n",
              "    </tr>\n",
              "    <tr>\n",
              "      <th>Uruguay</th>\n",
              "      <td>124</td>\n",
              "    </tr>\n",
              "    <tr>\n",
              "      <th>Liberia</th>\n",
              "      <td>141</td>\n",
              "    </tr>\n",
              "    <tr>\n",
              "      <th>Hungary</th>\n",
              "      <td>132</td>\n",
              "    </tr>\n",
              "    <tr>\n",
              "      <th>...</th>\n",
              "      <td>...</td>\n",
              "    </tr>\n",
              "    <tr>\n",
              "      <th>Eritrea</th>\n",
              "      <td>133</td>\n",
              "    </tr>\n",
              "    <tr>\n",
              "      <th>Sierra Leone</th>\n",
              "      <td>138</td>\n",
              "    </tr>\n",
              "    <tr>\n",
              "      <th>Yemen</th>\n",
              "      <td>136</td>\n",
              "    </tr>\n",
              "    <tr>\n",
              "      <th>Saudi Arabia</th>\n",
              "      <td>131</td>\n",
              "    </tr>\n",
              "    <tr>\n",
              "      <th>Ecuador</th>\n",
              "      <td>131</td>\n",
              "    </tr>\n",
              "  </tbody>\n",
              "</table>\n",
              "<p>243 rows × 1 columns</p>\n",
              "</div><br><label><b>dtype:</b> int64</label>"
            ],
            "text/plain": [
              "Azerbaijan      128\n",
              "Iceland         134\n",
              "Uruguay         124\n",
              "Liberia         141\n",
              "Hungary         132\n",
              "               ... \n",
              "Eritrea         133\n",
              "Sierra Leone    138\n",
              "Yemen           136\n",
              "Saudi Arabia    131\n",
              "Ecuador         131\n",
              "Name: count, Length: 243, dtype: int64"
            ]
          },
          "execution_count": 34,
          "metadata": {},
          "output_type": "execute_result"
        }
      ],
      "source": [
        "serie_pais.value_counts(sort = False)"
      ]
    },
    {
      "cell_type": "markdown",
      "metadata": {
        "id": "W_vNa_UKUPFm"
      },
      "source": [
        "Passando alguns parâmetros nesse método podemos alterar a forma que ele retorna os respectivos valores.\n",
        "O parâmetro Serie.value_counts(`normalize = True`) faz com que os valores dos elementos sejam apresentados em *porcentagens do todo*."
      ]
    },
    {
      "cell_type": "code",
      "execution_count": null,
      "metadata": {
        "colab": {
          "base_uri": "https://localhost:8080/",
          "height": 458
        },
        "collapsed": true,
        "id": "Luo0_2WjU582",
        "outputId": "9bc6611a-f431-4d81-a852-30aacadf8b3f"
      },
      "outputs": [
        {
          "data": {
            "text/html": [
              "<div>\n",
              "<style scoped>\n",
              "    .dataframe tbody tr th:only-of-type {\n",
              "        vertical-align: middle;\n",
              "    }\n",
              "\n",
              "    .dataframe tbody tr th {\n",
              "        vertical-align: top;\n",
              "    }\n",
              "\n",
              "    .dataframe thead th {\n",
              "        text-align: right;\n",
              "    }\n",
              "</style>\n",
              "<table border=\"1\" class=\"dataframe\">\n",
              "  <thead>\n",
              "    <tr style=\"text-align: right;\">\n",
              "      <th></th>\n",
              "      <th>proportion</th>\n",
              "    </tr>\n",
              "  </thead>\n",
              "  <tbody>\n",
              "    <tr>\n",
              "      <th>Korea</th>\n",
              "      <td>0.007770</td>\n",
              "    </tr>\n",
              "    <tr>\n",
              "      <th>Congo</th>\n",
              "      <td>0.007494</td>\n",
              "    </tr>\n",
              "    <tr>\n",
              "      <th>Poland</th>\n",
              "      <td>0.005160</td>\n",
              "    </tr>\n",
              "    <tr>\n",
              "      <th>Cayman Islands</th>\n",
              "      <td>0.004945</td>\n",
              "    </tr>\n",
              "    <tr>\n",
              "      <th>Svalbard &amp; Jan Mayen Islands</th>\n",
              "      <td>0.004852</td>\n",
              "    </tr>\n",
              "    <tr>\n",
              "      <th>...</th>\n",
              "      <td>...</td>\n",
              "    </tr>\n",
              "    <tr>\n",
              "      <th>Solomon Islands</th>\n",
              "      <td>0.003348</td>\n",
              "    </tr>\n",
              "    <tr>\n",
              "      <th>Swaziland</th>\n",
              "      <td>0.003317</td>\n",
              "    </tr>\n",
              "    <tr>\n",
              "      <th>Tajikistan</th>\n",
              "      <td>0.003286</td>\n",
              "    </tr>\n",
              "    <tr>\n",
              "      <th>Bhutan</th>\n",
              "      <td>0.003225</td>\n",
              "    </tr>\n",
              "    <tr>\n",
              "      <th>Armenia</th>\n",
              "      <td>0.003102</td>\n",
              "    </tr>\n",
              "  </tbody>\n",
              "</table>\n",
              "<p>243 rows × 1 columns</p>\n",
              "</div><br><label><b>dtype:</b> float64</label>"
            ],
            "text/plain": [
              "Korea                           0.007770\n",
              "Congo                           0.007494\n",
              "Poland                          0.005160\n",
              "Cayman Islands                  0.004945\n",
              "Svalbard & Jan Mayen Islands    0.004852\n",
              "                                  ...   \n",
              "Solomon Islands                 0.003348\n",
              "Swaziland                       0.003317\n",
              "Tajikistan                      0.003286\n",
              "Bhutan                          0.003225\n",
              "Armenia                         0.003102\n",
              "Name: proportion, Length: 243, dtype: float64"
            ]
          },
          "execution_count": 29,
          "metadata": {},
          "output_type": "execute_result"
        }
      ],
      "source": [
        "serie_pais.value_counts(normalize = True)"
      ]
    },
    {
      "cell_type": "markdown",
      "metadata": {
        "id": "Gb49b5H9VLv-"
      },
      "source": [
        "O parâmetro Serie.value_counts(`bins = x`) torna o retorno dividido no número de vezes específicadas em x. Mas para o método funcionar, os valores da Serie têm de ser do tipo **numérico**.\n",
        "\n",
        "O retorno será semelhante a uma *tabela de frequências* onde os índices serão os intervalos dos elementos numéricos e os valores da Serie, a quantidade de elementos naquele intervalo."
      ]
    },
    {
      "cell_type": "code",
      "execution_count": null,
      "metadata": {
        "colab": {
          "base_uri": "https://localhost:8080/",
          "height": 397
        },
        "collapsed": true,
        "id": "AVHk1-Q9ViPt",
        "outputId": "b74c4371-bebf-4811-d15c-21ba79fc7b3a"
      },
      "outputs": [
        {
          "data": {
            "text/html": [
              "<div>\n",
              "<style scoped>\n",
              "    .dataframe tbody tr th:only-of-type {\n",
              "        vertical-align: middle;\n",
              "    }\n",
              "\n",
              "    .dataframe tbody tr th {\n",
              "        vertical-align: top;\n",
              "    }\n",
              "\n",
              "    .dataframe thead th {\n",
              "        text-align: right;\n",
              "    }\n",
              "</style>\n",
              "<table border=\"1\" class=\"dataframe\">\n",
              "  <thead>\n",
              "    <tr style=\"text-align: right;\">\n",
              "      <th></th>\n",
              "      <th>count</th>\n",
              "    </tr>\n",
              "  </thead>\n",
              "  <tbody>\n",
              "    <tr>\n",
              "      <th>(38.9, 46.2]</th>\n",
              "      <td>6163</td>\n",
              "    </tr>\n",
              "    <tr>\n",
              "      <th>(31.6, 38.9]</th>\n",
              "      <td>6048</td>\n",
              "    </tr>\n",
              "    <tr>\n",
              "      <th>(24.3, 31.6]</th>\n",
              "      <td>5890</td>\n",
              "    </tr>\n",
              "    <tr>\n",
              "      <th>(16.926, 24.3]</th>\n",
              "      <td>5570</td>\n",
              "    </tr>\n",
              "    <tr>\n",
              "      <th>(46.2, 53.5]</th>\n",
              "      <td>3967</td>\n",
              "    </tr>\n",
              "    <tr>\n",
              "      <th>(53.5, 60.8]</th>\n",
              "      <td>2591</td>\n",
              "    </tr>\n",
              "    <tr>\n",
              "      <th>(60.8, 68.1]</th>\n",
              "      <td>1595</td>\n",
              "    </tr>\n",
              "    <tr>\n",
              "      <th>(68.1, 75.4]</th>\n",
              "      <td>496</td>\n",
              "    </tr>\n",
              "    <tr>\n",
              "      <th>(75.4, 82.7]</th>\n",
              "      <td>174</td>\n",
              "    </tr>\n",
              "    <tr>\n",
              "      <th>(82.7, 90.0]</th>\n",
              "      <td>67</td>\n",
              "    </tr>\n",
              "  </tbody>\n",
              "</table>\n",
              "</div><br><label><b>dtype:</b> int64</label>"
            ],
            "text/plain": [
              "(38.9, 46.2]      6163\n",
              "(31.6, 38.9]      6048\n",
              "(24.3, 31.6]      5890\n",
              "(16.926, 24.3]    5570\n",
              "(46.2, 53.5]      3967\n",
              "(53.5, 60.8]      2591\n",
              "(60.8, 68.1]      1595\n",
              "(68.1, 75.4]       496\n",
              "(75.4, 82.7]       174\n",
              "(82.7, 90.0]        67\n",
              "Name: count, dtype: int64"
            ]
          },
          "execution_count": 33,
          "metadata": {},
          "output_type": "execute_result"
        }
      ],
      "source": [
        "serie_idades.value_counts(bins = 10)"
      ]
    },
    {
      "cell_type": "markdown",
      "metadata": {
        "id": "ismHMYvM_sUC"
      },
      "source": [
        "## Filtragem (Series)"
      ]
    },
    {
      "cell_type": "markdown",
      "metadata": {
        "id": "UD9l-Lbd_wqy"
      },
      "source": [
        "Para começar, use países como indices ao invés de nomes, pois isso tornará mais simples o processo."
      ]
    },
    {
      "cell_type": "markdown",
      "metadata": {
        "id": "LL5Qu6T0__ve"
      },
      "source": [
        "Abaixo é gerado a lista de paises usando o método `faker.country()`"
      ]
    },
    {
      "cell_type": "code",
      "execution_count": null,
      "metadata": {
        "id": "rMak6RKvAGXW"
      },
      "outputs": [],
      "source": [
        "countries_index = [faker.country() for _ in range(32561)]"
      ]
    },
    {
      "cell_type": "markdown",
      "metadata": {
        "id": "ynnJ0GeTAOmP"
      },
      "source": [
        "Definindo uma Serie de idades e países (valor = idades; indices = países)"
      ]
    },
    {
      "cell_type": "code",
      "execution_count": null,
      "metadata": {
        "id": "OUymWECn_vmt"
      },
      "outputs": [],
      "source": [
        "serie_idade_pais = pd.Series(np.array(dataset['age']), index = countries_index)"
      ]
    },
    {
      "cell_type": "markdown",
      "metadata": {
        "id": "5uLHdErKBUZ7"
      },
      "source": [
        "O comando abaixo filtra os países onde o valor é maior que um número x (x = 57)"
      ]
    },
    {
      "cell_type": "code",
      "execution_count": null,
      "metadata": {
        "id": "Ph46GQwiAyvm"
      },
      "outputs": [],
      "source": [
        "serie_idade_pais[serie_idade_pais > 57]"
      ]
    },
    {
      "cell_type": "markdown",
      "metadata": {
        "id": "4a8Uh9YIBvIT"
      },
      "source": [
        "É possível combinar condicionais, retornando registros que satisfaçam uma condição e (&) outra"
      ]
    },
    {
      "cell_type": "code",
      "execution_count": null,
      "metadata": {
        "colab": {
          "base_uri": "https://localhost:8080/"
        },
        "id": "DOC9cu83BvS1",
        "outputId": "7d093f06-5af2-4bf1-ff85-68b007d1abc8"
      },
      "outputs": [
        {
          "data": {
            "text/plain": [
              "17"
            ]
          },
          "execution_count": 29,
          "metadata": {},
          "output_type": "execute_result"
        }
      ],
      "source": [
        "serie_idade_pais.loc[(serie_idade_pais > 57) & (serie_idade_pais.index == \"Italy\")].size"
      ]
    },
    {
      "cell_type": "markdown",
      "metadata": {
        "id": "3m3F3wmYCzzR"
      },
      "source": [
        "Usando `Serie.index.isin()` pode-se varrer a Serie e retornar True ou False para cada registro de acordo se correspondem ou não aos elementos passados como parâmetro"
      ]
    },
    {
      "cell_type": "code",
      "execution_count": null,
      "metadata": {
        "colab": {
          "base_uri": "https://localhost:8080/"
        },
        "id": "QMKHqtPMDCvz",
        "outputId": "a7537aa4-cb94-49f8-a82c-44eb3a72b5de"
      },
      "outputs": [
        {
          "data": {
            "text/plain": [
              "array([False, False, False, ..., False, False, False])"
            ]
          },
          "execution_count": 30,
          "metadata": {},
          "output_type": "execute_result"
        }
      ],
      "source": [
        "serie_idade_pais.index.isin([\"Italy\", \"Brazil\"])"
      ]
    },
    {
      "cell_type": "markdown",
      "metadata": {
        "id": "FX7rlLvRDM6P"
      },
      "source": [
        "Ao adicionar um \" ~ \" no início do comando inverte-se a condicional, retornando True aos que não satisfazem os parâmetros"
      ]
    },
    {
      "cell_type": "code",
      "execution_count": null,
      "metadata": {
        "colab": {
          "base_uri": "https://localhost:8080/"
        },
        "id": "17XQHkz4DYWj",
        "outputId": "d03122bd-7544-4406-fe8d-d94c7ec0daeb"
      },
      "outputs": [
        {
          "data": {
            "text/plain": [
              "array([ True,  True,  True, ...,  True,  True,  True])"
            ]
          },
          "execution_count": 33,
          "metadata": {},
          "output_type": "execute_result"
        }
      ],
      "source": [
        "~serie_idade_pais.index.isin([\"China\", \"Boznia\", \"India\"])"
      ]
    },
    {
      "cell_type": "markdown",
      "metadata": {
        "id": "lxnnOqPVm_Ne"
      },
      "source": [
        "## Operações Matemáticas\n",
        "\n"
      ]
    },
    {
      "cell_type": "markdown",
      "metadata": {
        "id": "vXdc8_5D6xYm"
      },
      "source": [
        "As operações matemáticas em Series recaem em seus valores o que quer dizer que, ao fazer uma operação qualquer numa Serie, seus valores é que são alterados.\n",
        "É possível fazer as mesmas 4 operações cada uma de duas formas diferentes, uma sendo nativa do Python e a outra sendo do Pandas. Abaixo estão mostrados as formas sendo a primeira do Python e a segunda do Pandas:"
      ]
    },
    {
      "cell_type": "markdown",
      "metadata": {
        "id": "TKPddxq90Guy"
      },
      "source": [
        "Serie original para comparação:"
      ]
    },
    {
      "cell_type": "code",
      "execution_count": null,
      "metadata": {
        "colab": {
          "base_uri": "https://localhost:8080/",
          "height": 458
        },
        "collapsed": true,
        "id": "Inez-xrJ0JNE",
        "outputId": "1ff1ae66-fef9-4017-da63-83fb9004baa2"
      },
      "outputs": [
        {
          "data": {
            "text/html": [
              "<div>\n",
              "<style scoped>\n",
              "    .dataframe tbody tr th:only-of-type {\n",
              "        vertical-align: middle;\n",
              "    }\n",
              "\n",
              "    .dataframe tbody tr th {\n",
              "        vertical-align: top;\n",
              "    }\n",
              "\n",
              "    .dataframe thead th {\n",
              "        text-align: right;\n",
              "    }\n",
              "</style>\n",
              "<table border=\"1\" class=\"dataframe\">\n",
              "  <thead>\n",
              "    <tr style=\"text-align: right;\">\n",
              "      <th></th>\n",
              "      <th>0</th>\n",
              "    </tr>\n",
              "  </thead>\n",
              "  <tbody>\n",
              "    <tr>\n",
              "      <th>Kiribati</th>\n",
              "      <td>39</td>\n",
              "    </tr>\n",
              "    <tr>\n",
              "      <th>Djibouti</th>\n",
              "      <td>50</td>\n",
              "    </tr>\n",
              "    <tr>\n",
              "      <th>Andorra</th>\n",
              "      <td>38</td>\n",
              "    </tr>\n",
              "    <tr>\n",
              "      <th>Oman</th>\n",
              "      <td>53</td>\n",
              "    </tr>\n",
              "    <tr>\n",
              "      <th>Kiribati</th>\n",
              "      <td>28</td>\n",
              "    </tr>\n",
              "    <tr>\n",
              "      <th>...</th>\n",
              "      <td>...</td>\n",
              "    </tr>\n",
              "    <tr>\n",
              "      <th>China</th>\n",
              "      <td>27</td>\n",
              "    </tr>\n",
              "    <tr>\n",
              "      <th>Ireland</th>\n",
              "      <td>40</td>\n",
              "    </tr>\n",
              "    <tr>\n",
              "      <th>Christmas Island</th>\n",
              "      <td>58</td>\n",
              "    </tr>\n",
              "    <tr>\n",
              "      <th>Myanmar</th>\n",
              "      <td>22</td>\n",
              "    </tr>\n",
              "    <tr>\n",
              "      <th>Bhutan</th>\n",
              "      <td>52</td>\n",
              "    </tr>\n",
              "  </tbody>\n",
              "</table>\n",
              "<p>32561 rows × 1 columns</p>\n",
              "</div><br><label><b>dtype:</b> int64</label>"
            ],
            "text/plain": [
              "Kiribati            39\n",
              "Djibouti            50\n",
              "Andorra             38\n",
              "Oman                53\n",
              "Kiribati            28\n",
              "                    ..\n",
              "China               27\n",
              "Ireland             40\n",
              "Christmas Island    58\n",
              "Myanmar             22\n",
              "Bhutan              52\n",
              "Length: 32561, dtype: int64"
            ]
          },
          "execution_count": 13,
          "metadata": {},
          "output_type": "execute_result"
        }
      ],
      "source": [
        "serie_idade_pais"
      ]
    },
    {
      "cell_type": "markdown",
      "metadata": {
        "id": "cDNbRmqP1rR0"
      },
      "source": [
        "### Soma"
      ]
    },
    {
      "cell_type": "markdown",
      "metadata": {
        "id": "ykL9Nq6uy2N-"
      },
      "source": [
        "Ao efetuar `Serie + x` será retornada a Serie com os valores adicionados x:"
      ]
    },
    {
      "cell_type": "code",
      "execution_count": null,
      "metadata": {
        "colab": {
          "base_uri": "https://localhost:8080/",
          "height": 458
        },
        "collapsed": true,
        "id": "NIpVL21YnESp",
        "outputId": "cbc9552a-1202-4716-c420-3ce5d595b898"
      },
      "outputs": [
        {
          "data": {
            "text/html": [
              "<div>\n",
              "<style scoped>\n",
              "    .dataframe tbody tr th:only-of-type {\n",
              "        vertical-align: middle;\n",
              "    }\n",
              "\n",
              "    .dataframe tbody tr th {\n",
              "        vertical-align: top;\n",
              "    }\n",
              "\n",
              "    .dataframe thead th {\n",
              "        text-align: right;\n",
              "    }\n",
              "</style>\n",
              "<table border=\"1\" class=\"dataframe\">\n",
              "  <thead>\n",
              "    <tr style=\"text-align: right;\">\n",
              "      <th></th>\n",
              "      <th>0</th>\n",
              "    </tr>\n",
              "  </thead>\n",
              "  <tbody>\n",
              "    <tr>\n",
              "      <th>Kiribati</th>\n",
              "      <td>41</td>\n",
              "    </tr>\n",
              "    <tr>\n",
              "      <th>Djibouti</th>\n",
              "      <td>52</td>\n",
              "    </tr>\n",
              "    <tr>\n",
              "      <th>Andorra</th>\n",
              "      <td>40</td>\n",
              "    </tr>\n",
              "    <tr>\n",
              "      <th>Oman</th>\n",
              "      <td>55</td>\n",
              "    </tr>\n",
              "    <tr>\n",
              "      <th>Kiribati</th>\n",
              "      <td>30</td>\n",
              "    </tr>\n",
              "    <tr>\n",
              "      <th>...</th>\n",
              "      <td>...</td>\n",
              "    </tr>\n",
              "    <tr>\n",
              "      <th>China</th>\n",
              "      <td>29</td>\n",
              "    </tr>\n",
              "    <tr>\n",
              "      <th>Ireland</th>\n",
              "      <td>42</td>\n",
              "    </tr>\n",
              "    <tr>\n",
              "      <th>Christmas Island</th>\n",
              "      <td>60</td>\n",
              "    </tr>\n",
              "    <tr>\n",
              "      <th>Myanmar</th>\n",
              "      <td>24</td>\n",
              "    </tr>\n",
              "    <tr>\n",
              "      <th>Bhutan</th>\n",
              "      <td>54</td>\n",
              "    </tr>\n",
              "  </tbody>\n",
              "</table>\n",
              "<p>32561 rows × 1 columns</p>\n",
              "</div><br><label><b>dtype:</b> int64</label>"
            ],
            "text/plain": [
              "Kiribati            41\n",
              "Djibouti            52\n",
              "Andorra             40\n",
              "Oman                55\n",
              "Kiribati            30\n",
              "                    ..\n",
              "China               29\n",
              "Ireland             42\n",
              "Christmas Island    60\n",
              "Myanmar             24\n",
              "Bhutan              54\n",
              "Length: 32561, dtype: int64"
            ]
          },
          "execution_count": 12,
          "metadata": {},
          "output_type": "execute_result"
        }
      ],
      "source": [
        "serie_idade_pais + 2"
      ]
    },
    {
      "cell_type": "markdown",
      "metadata": {
        "id": "1bZ5f3Au0PmO"
      },
      "source": [
        "Também é possível somar usando o método: `Serie.add(x)`"
      ]
    },
    {
      "cell_type": "code",
      "execution_count": null,
      "metadata": {
        "id": "QltMsuWF0DJr"
      },
      "outputs": [],
      "source": [
        "serie_idade_pais.add(2)"
      ]
    },
    {
      "cell_type": "markdown",
      "metadata": {
        "id": "3tD6v7B03wZ-"
      },
      "source": []
    },
    {
      "cell_type": "markdown",
      "metadata": {
        "id": "KnflHI5R1vFD"
      },
      "source": [
        "### Subtração"
      ]
    },
    {
      "cell_type": "code",
      "execution_count": null,
      "metadata": {
        "id": "6ciwcTj41_By"
      },
      "outputs": [],
      "source": [
        "serie_idade_pais - 2"
      ]
    },
    {
      "cell_type": "code",
      "execution_count": null,
      "metadata": {
        "id": "Dh2c3fau2Cp_"
      },
      "outputs": [],
      "source": [
        "serie_idade_pais.sub(2)"
      ]
    },
    {
      "cell_type": "markdown",
      "metadata": {
        "id": "mQoQN0Mb1zTE"
      },
      "source": [
        "### Multiplicação"
      ]
    },
    {
      "cell_type": "code",
      "execution_count": null,
      "metadata": {
        "colab": {
          "base_uri": "https://localhost:8080/",
          "height": 458
        },
        "collapsed": true,
        "id": "-3RBxnkm2Gs_",
        "outputId": "c17e6f3d-2d66-4814-f437-f30d66fde045"
      },
      "outputs": [
        {
          "data": {
            "text/html": [
              "<div>\n",
              "<style scoped>\n",
              "    .dataframe tbody tr th:only-of-type {\n",
              "        vertical-align: middle;\n",
              "    }\n",
              "\n",
              "    .dataframe tbody tr th {\n",
              "        vertical-align: top;\n",
              "    }\n",
              "\n",
              "    .dataframe thead th {\n",
              "        text-align: right;\n",
              "    }\n",
              "</style>\n",
              "<table border=\"1\" class=\"dataframe\">\n",
              "  <thead>\n",
              "    <tr style=\"text-align: right;\">\n",
              "      <th></th>\n",
              "      <th>0</th>\n",
              "    </tr>\n",
              "  </thead>\n",
              "  <tbody>\n",
              "    <tr>\n",
              "      <th>Kiribati</th>\n",
              "      <td>78</td>\n",
              "    </tr>\n",
              "    <tr>\n",
              "      <th>Djibouti</th>\n",
              "      <td>100</td>\n",
              "    </tr>\n",
              "    <tr>\n",
              "      <th>Andorra</th>\n",
              "      <td>76</td>\n",
              "    </tr>\n",
              "    <tr>\n",
              "      <th>Oman</th>\n",
              "      <td>106</td>\n",
              "    </tr>\n",
              "    <tr>\n",
              "      <th>Kiribati</th>\n",
              "      <td>56</td>\n",
              "    </tr>\n",
              "    <tr>\n",
              "      <th>...</th>\n",
              "      <td>...</td>\n",
              "    </tr>\n",
              "    <tr>\n",
              "      <th>China</th>\n",
              "      <td>54</td>\n",
              "    </tr>\n",
              "    <tr>\n",
              "      <th>Ireland</th>\n",
              "      <td>80</td>\n",
              "    </tr>\n",
              "    <tr>\n",
              "      <th>Christmas Island</th>\n",
              "      <td>116</td>\n",
              "    </tr>\n",
              "    <tr>\n",
              "      <th>Myanmar</th>\n",
              "      <td>44</td>\n",
              "    </tr>\n",
              "    <tr>\n",
              "      <th>Bhutan</th>\n",
              "      <td>104</td>\n",
              "    </tr>\n",
              "  </tbody>\n",
              "</table>\n",
              "<p>32561 rows × 1 columns</p>\n",
              "</div><br><label><b>dtype:</b> int64</label>"
            ],
            "text/plain": [
              "Kiribati             78\n",
              "Djibouti            100\n",
              "Andorra              76\n",
              "Oman                106\n",
              "Kiribati             56\n",
              "                   ... \n",
              "China                54\n",
              "Ireland              80\n",
              "Christmas Island    116\n",
              "Myanmar              44\n",
              "Bhutan              104\n",
              "Length: 32561, dtype: int64"
            ]
          },
          "execution_count": 14,
          "metadata": {},
          "output_type": "execute_result"
        }
      ],
      "source": [
        "serie_idade_pais * 2"
      ]
    },
    {
      "cell_type": "markdown",
      "metadata": {
        "id": "FLIeG3Ic1zdQ"
      },
      "source": [
        "### Divisão"
      ]
    },
    {
      "cell_type": "code",
      "execution_count": null,
      "metadata": {
        "colab": {
          "base_uri": "https://localhost:8080/",
          "height": 458
        },
        "collapsed": true,
        "id": "rQVyZH-g244B",
        "outputId": "cbe4bb5d-feaf-43f9-d1fc-8ae391cffd76"
      },
      "outputs": [
        {
          "data": {
            "text/html": [
              "<div>\n",
              "<style scoped>\n",
              "    .dataframe tbody tr th:only-of-type {\n",
              "        vertical-align: middle;\n",
              "    }\n",
              "\n",
              "    .dataframe tbody tr th {\n",
              "        vertical-align: top;\n",
              "    }\n",
              "\n",
              "    .dataframe thead th {\n",
              "        text-align: right;\n",
              "    }\n",
              "</style>\n",
              "<table border=\"1\" class=\"dataframe\">\n",
              "  <thead>\n",
              "    <tr style=\"text-align: right;\">\n",
              "      <th></th>\n",
              "      <th>0</th>\n",
              "    </tr>\n",
              "  </thead>\n",
              "  <tbody>\n",
              "    <tr>\n",
              "      <th>Kiribati</th>\n",
              "      <td>19.5</td>\n",
              "    </tr>\n",
              "    <tr>\n",
              "      <th>Djibouti</th>\n",
              "      <td>25.0</td>\n",
              "    </tr>\n",
              "    <tr>\n",
              "      <th>Andorra</th>\n",
              "      <td>19.0</td>\n",
              "    </tr>\n",
              "    <tr>\n",
              "      <th>Oman</th>\n",
              "      <td>26.5</td>\n",
              "    </tr>\n",
              "    <tr>\n",
              "      <th>Kiribati</th>\n",
              "      <td>14.0</td>\n",
              "    </tr>\n",
              "    <tr>\n",
              "      <th>...</th>\n",
              "      <td>...</td>\n",
              "    </tr>\n",
              "    <tr>\n",
              "      <th>China</th>\n",
              "      <td>13.5</td>\n",
              "    </tr>\n",
              "    <tr>\n",
              "      <th>Ireland</th>\n",
              "      <td>20.0</td>\n",
              "    </tr>\n",
              "    <tr>\n",
              "      <th>Christmas Island</th>\n",
              "      <td>29.0</td>\n",
              "    </tr>\n",
              "    <tr>\n",
              "      <th>Myanmar</th>\n",
              "      <td>11.0</td>\n",
              "    </tr>\n",
              "    <tr>\n",
              "      <th>Bhutan</th>\n",
              "      <td>26.0</td>\n",
              "    </tr>\n",
              "  </tbody>\n",
              "</table>\n",
              "<p>32561 rows × 1 columns</p>\n",
              "</div><br><label><b>dtype:</b> float64</label>"
            ],
            "text/plain": [
              "Kiribati            19.5\n",
              "Djibouti            25.0\n",
              "Andorra             19.0\n",
              "Oman                26.5\n",
              "Kiribati            14.0\n",
              "                    ... \n",
              "China               13.5\n",
              "Ireland             20.0\n",
              "Christmas Island    29.0\n",
              "Myanmar             11.0\n",
              "Bhutan              26.0\n",
              "Length: 32561, dtype: float64"
            ]
          },
          "execution_count": 15,
          "metadata": {},
          "output_type": "execute_result"
        }
      ],
      "source": [
        "serie_idade_pais / 2"
      ]
    },
    {
      "cell_type": "code",
      "execution_count": null,
      "metadata": {
        "colab": {
          "base_uri": "https://localhost:8080/",
          "height": 458
        },
        "collapsed": true,
        "id": "rSPHZM6-2-hP",
        "outputId": "8c6731c5-389b-471e-c668-747b3e1952df"
      },
      "outputs": [
        {
          "data": {
            "text/html": [
              "<div>\n",
              "<style scoped>\n",
              "    .dataframe tbody tr th:only-of-type {\n",
              "        vertical-align: middle;\n",
              "    }\n",
              "\n",
              "    .dataframe tbody tr th {\n",
              "        vertical-align: top;\n",
              "    }\n",
              "\n",
              "    .dataframe thead th {\n",
              "        text-align: right;\n",
              "    }\n",
              "</style>\n",
              "<table border=\"1\" class=\"dataframe\">\n",
              "  <thead>\n",
              "    <tr style=\"text-align: right;\">\n",
              "      <th></th>\n",
              "      <th>0</th>\n",
              "    </tr>\n",
              "  </thead>\n",
              "  <tbody>\n",
              "    <tr>\n",
              "      <th>Kiribati</th>\n",
              "      <td>19.5</td>\n",
              "    </tr>\n",
              "    <tr>\n",
              "      <th>Djibouti</th>\n",
              "      <td>25.0</td>\n",
              "    </tr>\n",
              "    <tr>\n",
              "      <th>Andorra</th>\n",
              "      <td>19.0</td>\n",
              "    </tr>\n",
              "    <tr>\n",
              "      <th>Oman</th>\n",
              "      <td>26.5</td>\n",
              "    </tr>\n",
              "    <tr>\n",
              "      <th>Kiribati</th>\n",
              "      <td>14.0</td>\n",
              "    </tr>\n",
              "    <tr>\n",
              "      <th>...</th>\n",
              "      <td>...</td>\n",
              "    </tr>\n",
              "    <tr>\n",
              "      <th>China</th>\n",
              "      <td>13.5</td>\n",
              "    </tr>\n",
              "    <tr>\n",
              "      <th>Ireland</th>\n",
              "      <td>20.0</td>\n",
              "    </tr>\n",
              "    <tr>\n",
              "      <th>Christmas Island</th>\n",
              "      <td>29.0</td>\n",
              "    </tr>\n",
              "    <tr>\n",
              "      <th>Myanmar</th>\n",
              "      <td>11.0</td>\n",
              "    </tr>\n",
              "    <tr>\n",
              "      <th>Bhutan</th>\n",
              "      <td>26.0</td>\n",
              "    </tr>\n",
              "  </tbody>\n",
              "</table>\n",
              "<p>32561 rows × 1 columns</p>\n",
              "</div><br><label><b>dtype:</b> float64</label>"
            ],
            "text/plain": [
              "Kiribati            19.5\n",
              "Djibouti            25.0\n",
              "Andorra             19.0\n",
              "Oman                26.5\n",
              "Kiribati            14.0\n",
              "                    ... \n",
              "China               13.5\n",
              "Ireland             20.0\n",
              "Christmas Island    29.0\n",
              "Myanmar             11.0\n",
              "Bhutan              26.0\n",
              "Length: 32561, dtype: float64"
            ]
          },
          "execution_count": 16,
          "metadata": {},
          "output_type": "execute_result"
        }
      ],
      "source": [
        "serie_idade_pais.div(2)"
      ]
    },
    {
      "cell_type": "markdown",
      "metadata": {
        "id": "WNqRajL338cY"
      },
      "source": [
        "### Operações com Series"
      ]
    },
    {
      "cell_type": "code",
      "execution_count": null,
      "metadata": {
        "colab": {
          "base_uri": "https://localhost:8080/"
        },
        "collapsed": true,
        "id": "mwVcmJyT3_81",
        "outputId": "4430e1db-5bf7-458c-8ccf-53e325a0c0dc"
      },
      "outputs": [
        {
          "data": {
            "text/plain": [
              "(0    1\n",
              " 1    2\n",
              " 2    3\n",
              " dtype: int64,\n",
              " 0    10\n",
              " 1    20\n",
              " 2    30\n",
              " dtype: int64)"
            ]
          },
          "execution_count": 17,
          "metadata": {},
          "output_type": "execute_result"
        }
      ],
      "source": [
        "serie_1 = pd.Series([1, 2, 3])\n",
        "serie_2 = pd.Series([10, 20, 30])\n",
        "serie_1, serie_2"
      ]
    },
    {
      "cell_type": "markdown",
      "metadata": {
        "id": "j3jqZ7n3881A"
      },
      "source": [
        "#### Adição"
      ]
    },
    {
      "cell_type": "code",
      "execution_count": null,
      "metadata": {
        "id": "Z7cwPQYL9QWF"
      },
      "outputs": [],
      "source": [
        "serie_1.add(serie_2)"
      ]
    },
    {
      "cell_type": "code",
      "execution_count": null,
      "metadata": {
        "colab": {
          "base_uri": "https://localhost:8080/",
          "height": 178
        },
        "collapsed": true,
        "id": "NtlNFW5I4Ljq",
        "outputId": "58ebd872-f53c-4e87-f65d-5fee1f21d1c6"
      },
      "outputs": [
        {
          "data": {
            "text/html": [
              "<div>\n",
              "<style scoped>\n",
              "    .dataframe tbody tr th:only-of-type {\n",
              "        vertical-align: middle;\n",
              "    }\n",
              "\n",
              "    .dataframe tbody tr th {\n",
              "        vertical-align: top;\n",
              "    }\n",
              "\n",
              "    .dataframe thead th {\n",
              "        text-align: right;\n",
              "    }\n",
              "</style>\n",
              "<table border=\"1\" class=\"dataframe\">\n",
              "  <thead>\n",
              "    <tr style=\"text-align: right;\">\n",
              "      <th></th>\n",
              "      <th>0</th>\n",
              "    </tr>\n",
              "  </thead>\n",
              "  <tbody>\n",
              "    <tr>\n",
              "      <th>0</th>\n",
              "      <td>11</td>\n",
              "    </tr>\n",
              "    <tr>\n",
              "      <th>1</th>\n",
              "      <td>22</td>\n",
              "    </tr>\n",
              "    <tr>\n",
              "      <th>2</th>\n",
              "      <td>33</td>\n",
              "    </tr>\n",
              "  </tbody>\n",
              "</table>\n",
              "</div><br><label><b>dtype:</b> int64</label>"
            ],
            "text/plain": [
              "0    11\n",
              "1    22\n",
              "2    33\n",
              "dtype: int64"
            ]
          },
          "execution_count": 18,
          "metadata": {},
          "output_type": "execute_result"
        }
      ],
      "source": [
        "serie_1 + serie_2"
      ]
    },
    {
      "cell_type": "markdown",
      "metadata": {
        "id": "vL4XNr639EDR"
      },
      "source": [
        "#### Subtração"
      ]
    },
    {
      "cell_type": "code",
      "execution_count": null,
      "metadata": {
        "colab": {
          "base_uri": "https://localhost:8080/",
          "height": 178
        },
        "collapsed": true,
        "id": "4-fUeNR69Ofp",
        "outputId": "757753ec-7616-419a-ff71-60f8f5b76ca6"
      },
      "outputs": [
        {
          "data": {
            "text/html": [
              "<div>\n",
              "<style scoped>\n",
              "    .dataframe tbody tr th:only-of-type {\n",
              "        vertical-align: middle;\n",
              "    }\n",
              "\n",
              "    .dataframe tbody tr th {\n",
              "        vertical-align: top;\n",
              "    }\n",
              "\n",
              "    .dataframe thead th {\n",
              "        text-align: right;\n",
              "    }\n",
              "</style>\n",
              "<table border=\"1\" class=\"dataframe\">\n",
              "  <thead>\n",
              "    <tr style=\"text-align: right;\">\n",
              "      <th></th>\n",
              "      <th>0</th>\n",
              "    </tr>\n",
              "  </thead>\n",
              "  <tbody>\n",
              "    <tr>\n",
              "      <th>0</th>\n",
              "      <td>-9</td>\n",
              "    </tr>\n",
              "    <tr>\n",
              "      <th>1</th>\n",
              "      <td>-18</td>\n",
              "    </tr>\n",
              "    <tr>\n",
              "      <th>2</th>\n",
              "      <td>-27</td>\n",
              "    </tr>\n",
              "  </tbody>\n",
              "</table>\n",
              "</div><br><label><b>dtype:</b> int64</label>"
            ],
            "text/plain": [
              "0    -9\n",
              "1   -18\n",
              "2   -27\n",
              "dtype: int64"
            ]
          },
          "execution_count": 19,
          "metadata": {},
          "output_type": "execute_result"
        }
      ],
      "source": [
        "serie_1.sub(serie_2)"
      ]
    },
    {
      "cell_type": "code",
      "execution_count": null,
      "metadata": {
        "id": "OpiaBypq9eE2"
      },
      "outputs": [],
      "source": [
        "serie_1 - serie_2"
      ]
    },
    {
      "cell_type": "markdown",
      "metadata": {
        "id": "9qs6PmxF9GF-"
      },
      "source": [
        "#### Multiplicação"
      ]
    },
    {
      "cell_type": "code",
      "execution_count": null,
      "metadata": {
        "id": "n6hqhLrE9gVv"
      },
      "outputs": [],
      "source": [
        "serie_1.mul(serie_2)"
      ]
    },
    {
      "cell_type": "code",
      "execution_count": null,
      "metadata": {
        "id": "szmvB3Wy9ilN"
      },
      "outputs": [],
      "source": [
        "serie_1 * serie_2"
      ]
    },
    {
      "cell_type": "markdown",
      "metadata": {
        "id": "kBhC0YtH9sev"
      },
      "source": [
        "#### Divisão"
      ]
    },
    {
      "cell_type": "code",
      "execution_count": null,
      "metadata": {
        "id": "0sovA9Lg9wvt"
      },
      "outputs": [],
      "source": [
        "serie_1.div(serie_2)"
      ]
    },
    {
      "cell_type": "code",
      "execution_count": null,
      "metadata": {
        "id": "b0Npubtv9wfX"
      },
      "outputs": [],
      "source": [
        "serie_1 / serie_2"
      ]
    },
    {
      "cell_type": "markdown",
      "metadata": {
        "id": "w9rfzUJi96lL"
      },
      "source": [
        "## Operações com Strings"
      ]
    },
    {
      "cell_type": "markdown",
      "metadata": {
        "id": "FsbRDNMW-cMJ"
      },
      "source": [
        "A Serie `serie_idade_pais` é composta por índices do tipo String e valores do tipo numérico.\n",
        "Para realizar as operações precisamos que os valores sejam Strings então vamos fazer essa mudança:"
      ]
    },
    {
      "cell_type": "markdown",
      "metadata": {
        "id": "B5KLD8pr-5xk"
      },
      "source": [
        "O método `Serie.index.to_series()` cria uma Serie onde seus valores são os índices da Serie original. Nesse caso estamos chamando ela na serie_idade_pais então o resultado será: transformar os valores de idades para os nomes dos países."
      ]
    },
    {
      "cell_type": "code",
      "execution_count": null,
      "metadata": {
        "collapsed": true,
        "id": "NsJU2QZ_-K6g"
      },
      "outputs": [],
      "source": [
        "serie_idade_pais = serie_idade_pais.index.to_series()"
      ]
    },
    {
      "cell_type": "markdown",
      "metadata": {
        "id": "jBXMTrnu_Zva"
      },
      "source": [
        "O próximo passo é resetar os índices para valores numéricos, resultado numa Serie de 32.561 países:"
      ]
    },
    {
      "cell_type": "code",
      "execution_count": null,
      "metadata": {
        "id": "ALzbl-pw_r3F"
      },
      "outputs": [],
      "source": [
        "serie_idade_pais.reset_index(drop = True, inplace = True)"
      ]
    },
    {
      "cell_type": "markdown",
      "metadata": {
        "id": "WFAG_QrLAGd5"
      },
      "source": [
        "### Operações"
      ]
    },
    {
      "cell_type": "markdown",
      "metadata": {
        "id": "axGj6QB7AL_6"
      },
      "source": [
        "#### Busca na Serie\n",
        "\n",
        "Use `Serie.str.contains(\"<string>\")` para varrer a Serie e retornar True ou False para a presença da string passada no parâmetro dentro dos valores da Serie. (A String pode ser completa ou só um trecho)."
      ]
    },
    {
      "cell_type": "code",
      "execution_count": null,
      "metadata": {
        "colab": {
          "base_uri": "https://localhost:8080/",
          "height": 458
        },
        "id": "ECpul85rA7SN",
        "outputId": "ad786783-ea98-4a0b-f93f-84f2cd6666e0"
      },
      "outputs": [
        {
          "data": {
            "text/html": [
              "<div>\n",
              "<style scoped>\n",
              "    .dataframe tbody tr th:only-of-type {\n",
              "        vertical-align: middle;\n",
              "    }\n",
              "\n",
              "    .dataframe tbody tr th {\n",
              "        vertical-align: top;\n",
              "    }\n",
              "\n",
              "    .dataframe thead th {\n",
              "        text-align: right;\n",
              "    }\n",
              "</style>\n",
              "<table border=\"1\" class=\"dataframe\">\n",
              "  <thead>\n",
              "    <tr style=\"text-align: right;\">\n",
              "      <th></th>\n",
              "      <th>0</th>\n",
              "    </tr>\n",
              "  </thead>\n",
              "  <tbody>\n",
              "    <tr>\n",
              "      <th>0</th>\n",
              "      <td>False</td>\n",
              "    </tr>\n",
              "    <tr>\n",
              "      <th>1</th>\n",
              "      <td>False</td>\n",
              "    </tr>\n",
              "    <tr>\n",
              "      <th>2</th>\n",
              "      <td>False</td>\n",
              "    </tr>\n",
              "    <tr>\n",
              "      <th>3</th>\n",
              "      <td>False</td>\n",
              "    </tr>\n",
              "    <tr>\n",
              "      <th>4</th>\n",
              "      <td>False</td>\n",
              "    </tr>\n",
              "    <tr>\n",
              "      <th>...</th>\n",
              "      <td>...</td>\n",
              "    </tr>\n",
              "    <tr>\n",
              "      <th>32556</th>\n",
              "      <td>False</td>\n",
              "    </tr>\n",
              "    <tr>\n",
              "      <th>32557</th>\n",
              "      <td>False</td>\n",
              "    </tr>\n",
              "    <tr>\n",
              "      <th>32558</th>\n",
              "      <td>False</td>\n",
              "    </tr>\n",
              "    <tr>\n",
              "      <th>32559</th>\n",
              "      <td>True</td>\n",
              "    </tr>\n",
              "    <tr>\n",
              "      <th>32560</th>\n",
              "      <td>False</td>\n",
              "    </tr>\n",
              "  </tbody>\n",
              "</table>\n",
              "<p>32561 rows × 1 columns</p>\n",
              "</div><br><label><b>dtype:</b> bool</label>"
            ],
            "text/plain": [
              "0        False\n",
              "1        False\n",
              "2        False\n",
              "3        False\n",
              "4        False\n",
              "         ...  \n",
              "32556    False\n",
              "32557    False\n",
              "32558    False\n",
              "32559     True\n",
              "32560    False\n",
              "Length: 32561, dtype: bool"
            ]
          },
          "execution_count": 27,
          "metadata": {},
          "output_type": "execute_result"
        }
      ],
      "source": [
        "serie_idade_pais.str.contains(\"nma\")"
      ]
    },
    {
      "cell_type": "markdown",
      "metadata": {
        "id": "RKjSh7_KBUZy"
      },
      "source": [
        "#### Transformação em maiusculas e minúsculas\n",
        "\n",
        "É possível transformar todos os valores em maíusculas ou minúsculas usando, respectivamente `Serie.str.upper()` ou `Serie.str.lower()`."
      ]
    },
    {
      "cell_type": "code",
      "execution_count": null,
      "metadata": {
        "colab": {
          "base_uri": "https://localhost:8080/",
          "height": 458
        },
        "collapsed": true,
        "id": "HxUaUWK7BrkZ",
        "outputId": "288208be-5238-4a7e-c16d-6b612dfdc0bb"
      },
      "outputs": [
        {
          "data": {
            "text/html": [
              "<div>\n",
              "<style scoped>\n",
              "    .dataframe tbody tr th:only-of-type {\n",
              "        vertical-align: middle;\n",
              "    }\n",
              "\n",
              "    .dataframe tbody tr th {\n",
              "        vertical-align: top;\n",
              "    }\n",
              "\n",
              "    .dataframe thead th {\n",
              "        text-align: right;\n",
              "    }\n",
              "</style>\n",
              "<table border=\"1\" class=\"dataframe\">\n",
              "  <thead>\n",
              "    <tr style=\"text-align: right;\">\n",
              "      <th></th>\n",
              "      <th>0</th>\n",
              "    </tr>\n",
              "  </thead>\n",
              "  <tbody>\n",
              "    <tr>\n",
              "      <th>0</th>\n",
              "      <td>KIRIBATI</td>\n",
              "    </tr>\n",
              "    <tr>\n",
              "      <th>1</th>\n",
              "      <td>DJIBOUTI</td>\n",
              "    </tr>\n",
              "    <tr>\n",
              "      <th>2</th>\n",
              "      <td>ANDORRA</td>\n",
              "    </tr>\n",
              "    <tr>\n",
              "      <th>3</th>\n",
              "      <td>OMAN</td>\n",
              "    </tr>\n",
              "    <tr>\n",
              "      <th>4</th>\n",
              "      <td>KIRIBATI</td>\n",
              "    </tr>\n",
              "    <tr>\n",
              "      <th>...</th>\n",
              "      <td>...</td>\n",
              "    </tr>\n",
              "    <tr>\n",
              "      <th>32556</th>\n",
              "      <td>CHINA</td>\n",
              "    </tr>\n",
              "    <tr>\n",
              "      <th>32557</th>\n",
              "      <td>IRELAND</td>\n",
              "    </tr>\n",
              "    <tr>\n",
              "      <th>32558</th>\n",
              "      <td>CHRISTMAS ISLAND</td>\n",
              "    </tr>\n",
              "    <tr>\n",
              "      <th>32559</th>\n",
              "      <td>MYANMAR</td>\n",
              "    </tr>\n",
              "    <tr>\n",
              "      <th>32560</th>\n",
              "      <td>BHUTAN</td>\n",
              "    </tr>\n",
              "  </tbody>\n",
              "</table>\n",
              "<p>32561 rows × 1 columns</p>\n",
              "</div><br><label><b>dtype:</b> object</label>"
            ],
            "text/plain": [
              "0                KIRIBATI\n",
              "1                DJIBOUTI\n",
              "2                 ANDORRA\n",
              "3                    OMAN\n",
              "4                KIRIBATI\n",
              "               ...       \n",
              "32556               CHINA\n",
              "32557             IRELAND\n",
              "32558    CHRISTMAS ISLAND\n",
              "32559             MYANMAR\n",
              "32560              BHUTAN\n",
              "Length: 32561, dtype: object"
            ]
          },
          "execution_count": 28,
          "metadata": {},
          "output_type": "execute_result"
        }
      ],
      "source": [
        "serie_idade_pais.str.upper()"
      ]
    },
    {
      "cell_type": "code",
      "execution_count": null,
      "metadata": {
        "colab": {
          "base_uri": "https://localhost:8080/",
          "height": 458
        },
        "collapsed": true,
        "id": "UONJRqp8BxUh",
        "outputId": "45bd4c3e-222f-46e0-b814-80ec48ab3941"
      },
      "outputs": [
        {
          "data": {
            "text/html": [
              "<div>\n",
              "<style scoped>\n",
              "    .dataframe tbody tr th:only-of-type {\n",
              "        vertical-align: middle;\n",
              "    }\n",
              "\n",
              "    .dataframe tbody tr th {\n",
              "        vertical-align: top;\n",
              "    }\n",
              "\n",
              "    .dataframe thead th {\n",
              "        text-align: right;\n",
              "    }\n",
              "</style>\n",
              "<table border=\"1\" class=\"dataframe\">\n",
              "  <thead>\n",
              "    <tr style=\"text-align: right;\">\n",
              "      <th></th>\n",
              "      <th>0</th>\n",
              "    </tr>\n",
              "  </thead>\n",
              "  <tbody>\n",
              "    <tr>\n",
              "      <th>0</th>\n",
              "      <td>kiribati</td>\n",
              "    </tr>\n",
              "    <tr>\n",
              "      <th>1</th>\n",
              "      <td>djibouti</td>\n",
              "    </tr>\n",
              "    <tr>\n",
              "      <th>2</th>\n",
              "      <td>andorra</td>\n",
              "    </tr>\n",
              "    <tr>\n",
              "      <th>3</th>\n",
              "      <td>oman</td>\n",
              "    </tr>\n",
              "    <tr>\n",
              "      <th>4</th>\n",
              "      <td>kiribati</td>\n",
              "    </tr>\n",
              "    <tr>\n",
              "      <th>...</th>\n",
              "      <td>...</td>\n",
              "    </tr>\n",
              "    <tr>\n",
              "      <th>32556</th>\n",
              "      <td>china</td>\n",
              "    </tr>\n",
              "    <tr>\n",
              "      <th>32557</th>\n",
              "      <td>ireland</td>\n",
              "    </tr>\n",
              "    <tr>\n",
              "      <th>32558</th>\n",
              "      <td>christmas island</td>\n",
              "    </tr>\n",
              "    <tr>\n",
              "      <th>32559</th>\n",
              "      <td>myanmar</td>\n",
              "    </tr>\n",
              "    <tr>\n",
              "      <th>32560</th>\n",
              "      <td>bhutan</td>\n",
              "    </tr>\n",
              "  </tbody>\n",
              "</table>\n",
              "<p>32561 rows × 1 columns</p>\n",
              "</div><br><label><b>dtype:</b> object</label>"
            ],
            "text/plain": [
              "0                kiribati\n",
              "1                djibouti\n",
              "2                 andorra\n",
              "3                    oman\n",
              "4                kiribati\n",
              "               ...       \n",
              "32556               china\n",
              "32557             ireland\n",
              "32558    christmas island\n",
              "32559             myanmar\n",
              "32560              bhutan\n",
              "Length: 32561, dtype: object"
            ]
          },
          "execution_count": 29,
          "metadata": {},
          "output_type": "execute_result"
        }
      ],
      "source": [
        "serie_idade_pais.str.lower()"
      ]
    },
    {
      "cell_type": "markdown",
      "metadata": {
        "id": "hsTUrs1yB9_d"
      },
      "source": [
        "#### Removendo uma String\n",
        "\n",
        "Pode-se remover uma palavra específica de todos os registros ao passá-la como parâmetro no comando `Serie.str.strip(\"<String>\")`."
      ]
    },
    {
      "cell_type": "code",
      "execution_count": null,
      "metadata": {
        "colab": {
          "base_uri": "https://localhost:8080/",
          "height": 458
        },
        "collapsed": true,
        "id": "tbRy1Zr6CUQK",
        "outputId": "c7ec81b3-de0f-4b8c-dbc7-6f5d5b48f9a4"
      },
      "outputs": [
        {
          "data": {
            "text/html": [
              "<div>\n",
              "<style scoped>\n",
              "    .dataframe tbody tr th:only-of-type {\n",
              "        vertical-align: middle;\n",
              "    }\n",
              "\n",
              "    .dataframe tbody tr th {\n",
              "        vertical-align: top;\n",
              "    }\n",
              "\n",
              "    .dataframe thead th {\n",
              "        text-align: right;\n",
              "    }\n",
              "</style>\n",
              "<table border=\"1\" class=\"dataframe\">\n",
              "  <thead>\n",
              "    <tr style=\"text-align: right;\">\n",
              "      <th></th>\n",
              "      <th>0</th>\n",
              "    </tr>\n",
              "  </thead>\n",
              "  <tbody>\n",
              "    <tr>\n",
              "      <th>0</th>\n",
              "      <td>Kirib</td>\n",
              "    </tr>\n",
              "    <tr>\n",
              "      <th>1</th>\n",
              "      <td>Djibou</td>\n",
              "    </tr>\n",
              "    <tr>\n",
              "      <th>2</th>\n",
              "      <td>Ando</td>\n",
              "    </tr>\n",
              "    <tr>\n",
              "      <th>3</th>\n",
              "      <td>Oman</td>\n",
              "    </tr>\n",
              "    <tr>\n",
              "      <th>4</th>\n",
              "      <td>Kirib</td>\n",
              "    </tr>\n",
              "    <tr>\n",
              "      <th>...</th>\n",
              "      <td>...</td>\n",
              "    </tr>\n",
              "    <tr>\n",
              "      <th>32556</th>\n",
              "      <td>n</td>\n",
              "    </tr>\n",
              "    <tr>\n",
              "      <th>32557</th>\n",
              "      <td>Ireland</td>\n",
              "    </tr>\n",
              "    <tr>\n",
              "      <th>32558</th>\n",
              "      <td>Island</td>\n",
              "    </tr>\n",
              "    <tr>\n",
              "      <th>32559</th>\n",
              "      <td>Myan</td>\n",
              "    </tr>\n",
              "    <tr>\n",
              "      <th>32560</th>\n",
              "      <td>Bhutan</td>\n",
              "    </tr>\n",
              "  </tbody>\n",
              "</table>\n",
              "<p>32561 rows × 1 columns</p>\n",
              "</div><br><label><b>dtype:</b> object</label>"
            ],
            "text/plain": [
              "0          Kirib\n",
              "1         Djibou\n",
              "2           Ando\n",
              "3           Oman\n",
              "4          Kirib\n",
              "          ...   \n",
              "32556          n\n",
              "32557    Ireland\n",
              "32558     Island\n",
              "32559       Myan\n",
              "32560     Bhutan\n",
              "Length: 32561, dtype: object"
            ]
          },
          "execution_count": 34,
          "metadata": {},
          "output_type": "execute_result"
        }
      ],
      "source": [
        "serie_idade_pais.str.strip(\"Christmas\")"
      ]
    },
    {
      "cell_type": "markdown",
      "metadata": {
        "id": "7HTWc74JDHdV"
      },
      "source": [
        "#### Quebrando Palavras com split (e adicionando novas colunas)\n",
        "\n",
        "Com o método `Serie.str.split()` pode-se separar palavras em um determinado ponto que definimos em seu parâmetro.\n",
        "Passando também o parâmetro `expand = True` pode-se expandir a Serie, criando novas colunas que os pedaços da string armazenará."
      ]
    },
    {
      "cell_type": "code",
      "execution_count": null,
      "metadata": {
        "colab": {
          "base_uri": "https://localhost:8080/",
          "height": 423
        },
        "collapsed": true,
        "id": "vKqClTPhDmvO",
        "outputId": "96e8242c-31d2-428e-d1cf-657f4e9eeb10"
      },
      "outputs": [
        {
          "data": {
            "application/vnd.google.colaboratory.intrinsic+json": {
              "summary": "{\n  \"name\": \"serie_idade_pais\",\n  \"rows\": 32561,\n  \"fields\": [\n    {\n      \"column\": 0,\n      \"properties\": {\n        \"dtype\": \"category\",\n        \"num_unique_values\": 227,\n        \"samples\": [\n          \"Cocos\",\n          \"Azerbaijan\",\n          \"Serbia\"\n        ],\n        \"semantic_type\": \"\",\n        \"description\": \"\"\n      }\n    },\n    {\n      \"column\": 1,\n      \"properties\": {\n        \"dtype\": \"category\",\n        \"num_unique_values\": 53,\n        \"samples\": [\n          \"(Slovak\",\n          \"See\",\n          \"Arabia\"\n        ],\n        \"semantic_type\": \"\",\n        \"description\": \"\"\n      }\n    },\n    {\n      \"column\": 2,\n      \"properties\": {\n        \"dtype\": \"category\",\n        \"num_unique_values\": 24,\n        \"samples\": [\n          \"Barbuda\",\n          \"(Vatican\",\n          \"Islands\"\n        ],\n        \"semantic_type\": \"\",\n        \"description\": \"\"\n      }\n    },\n    {\n      \"column\": 3,\n      \"properties\": {\n        \"dtype\": \"category\",\n        \"num_unique_values\": 13,\n        \"samples\": [\n          \"Territory\",\n          \"City\",\n          \"the\"\n        ],\n        \"semantic_type\": \"\",\n        \"description\": \"\"\n      }\n    },\n    {\n      \"column\": 4,\n      \"properties\": {\n        \"dtype\": \"category\",\n        \"num_unique_values\": 6,\n        \"samples\": [\n          \"Grenadines\",\n          \"Islands\",\n          \"(Chagos\"\n        ],\n        \"semantic_type\": \"\",\n        \"description\": \"\"\n      }\n    },\n    {\n      \"column\": 5,\n      \"properties\": {\n        \"dtype\": \"category\",\n        \"num_unique_values\": 3,\n        \"samples\": [\n          \"Sandwich\",\n          \"60\",\n          \"Archipelago)\"\n        ],\n        \"semantic_type\": \"\",\n        \"description\": \"\"\n      }\n    },\n    {\n      \"column\": 6,\n      \"properties\": {\n        \"dtype\": \"category\",\n        \"num_unique_values\": 2,\n        \"samples\": [\n          \"deg\",\n          \"Islands\"\n        ],\n        \"semantic_type\": \"\",\n        \"description\": \"\"\n      }\n    },\n    {\n      \"column\": 7,\n      \"properties\": {\n        \"dtype\": \"category\",\n        \"num_unique_values\": 1,\n        \"samples\": [\n          \"S)\"\n        ],\n        \"semantic_type\": \"\",\n        \"description\": \"\"\n      }\n    }\n  ]\n}",
              "type": "dataframe"
            },
            "text/html": [
              "\n",
              "  <div id=\"df-c3b7ea89-dc83-4823-beea-95d1ced89499\" class=\"colab-df-container\">\n",
              "    <div>\n",
              "<style scoped>\n",
              "    .dataframe tbody tr th:only-of-type {\n",
              "        vertical-align: middle;\n",
              "    }\n",
              "\n",
              "    .dataframe tbody tr th {\n",
              "        vertical-align: top;\n",
              "    }\n",
              "\n",
              "    .dataframe thead th {\n",
              "        text-align: right;\n",
              "    }\n",
              "</style>\n",
              "<table border=\"1\" class=\"dataframe\">\n",
              "  <thead>\n",
              "    <tr style=\"text-align: right;\">\n",
              "      <th></th>\n",
              "      <th>0</th>\n",
              "      <th>1</th>\n",
              "      <th>2</th>\n",
              "      <th>3</th>\n",
              "      <th>4</th>\n",
              "      <th>5</th>\n",
              "      <th>6</th>\n",
              "      <th>7</th>\n",
              "    </tr>\n",
              "  </thead>\n",
              "  <tbody>\n",
              "    <tr>\n",
              "      <th>0</th>\n",
              "      <td>Kiribati</td>\n",
              "      <td>None</td>\n",
              "      <td>None</td>\n",
              "      <td>None</td>\n",
              "      <td>None</td>\n",
              "      <td>None</td>\n",
              "      <td>None</td>\n",
              "      <td>None</td>\n",
              "    </tr>\n",
              "    <tr>\n",
              "      <th>1</th>\n",
              "      <td>Djibouti</td>\n",
              "      <td>None</td>\n",
              "      <td>None</td>\n",
              "      <td>None</td>\n",
              "      <td>None</td>\n",
              "      <td>None</td>\n",
              "      <td>None</td>\n",
              "      <td>None</td>\n",
              "    </tr>\n",
              "    <tr>\n",
              "      <th>2</th>\n",
              "      <td>Andorra</td>\n",
              "      <td>None</td>\n",
              "      <td>None</td>\n",
              "      <td>None</td>\n",
              "      <td>None</td>\n",
              "      <td>None</td>\n",
              "      <td>None</td>\n",
              "      <td>None</td>\n",
              "    </tr>\n",
              "    <tr>\n",
              "      <th>3</th>\n",
              "      <td>Oman</td>\n",
              "      <td>None</td>\n",
              "      <td>None</td>\n",
              "      <td>None</td>\n",
              "      <td>None</td>\n",
              "      <td>None</td>\n",
              "      <td>None</td>\n",
              "      <td>None</td>\n",
              "    </tr>\n",
              "    <tr>\n",
              "      <th>4</th>\n",
              "      <td>Kiribati</td>\n",
              "      <td>None</td>\n",
              "      <td>None</td>\n",
              "      <td>None</td>\n",
              "      <td>None</td>\n",
              "      <td>None</td>\n",
              "      <td>None</td>\n",
              "      <td>None</td>\n",
              "    </tr>\n",
              "    <tr>\n",
              "      <th>...</th>\n",
              "      <td>...</td>\n",
              "      <td>...</td>\n",
              "      <td>...</td>\n",
              "      <td>...</td>\n",
              "      <td>...</td>\n",
              "      <td>...</td>\n",
              "      <td>...</td>\n",
              "      <td>...</td>\n",
              "    </tr>\n",
              "    <tr>\n",
              "      <th>32556</th>\n",
              "      <td>China</td>\n",
              "      <td>None</td>\n",
              "      <td>None</td>\n",
              "      <td>None</td>\n",
              "      <td>None</td>\n",
              "      <td>None</td>\n",
              "      <td>None</td>\n",
              "      <td>None</td>\n",
              "    </tr>\n",
              "    <tr>\n",
              "      <th>32557</th>\n",
              "      <td>Ireland</td>\n",
              "      <td>None</td>\n",
              "      <td>None</td>\n",
              "      <td>None</td>\n",
              "      <td>None</td>\n",
              "      <td>None</td>\n",
              "      <td>None</td>\n",
              "      <td>None</td>\n",
              "    </tr>\n",
              "    <tr>\n",
              "      <th>32558</th>\n",
              "      <td>Christmas</td>\n",
              "      <td>Island</td>\n",
              "      <td>None</td>\n",
              "      <td>None</td>\n",
              "      <td>None</td>\n",
              "      <td>None</td>\n",
              "      <td>None</td>\n",
              "      <td>None</td>\n",
              "    </tr>\n",
              "    <tr>\n",
              "      <th>32559</th>\n",
              "      <td>Myanmar</td>\n",
              "      <td>None</td>\n",
              "      <td>None</td>\n",
              "      <td>None</td>\n",
              "      <td>None</td>\n",
              "      <td>None</td>\n",
              "      <td>None</td>\n",
              "      <td>None</td>\n",
              "    </tr>\n",
              "    <tr>\n",
              "      <th>32560</th>\n",
              "      <td>Bhutan</td>\n",
              "      <td>None</td>\n",
              "      <td>None</td>\n",
              "      <td>None</td>\n",
              "      <td>None</td>\n",
              "      <td>None</td>\n",
              "      <td>None</td>\n",
              "      <td>None</td>\n",
              "    </tr>\n",
              "  </tbody>\n",
              "</table>\n",
              "<p>32561 rows × 8 columns</p>\n",
              "</div>\n",
              "    <div class=\"colab-df-buttons\">\n",
              "\n",
              "  <div class=\"colab-df-container\">\n",
              "    <button class=\"colab-df-convert\" onclick=\"convertToInteractive('df-c3b7ea89-dc83-4823-beea-95d1ced89499')\"\n",
              "            title=\"Convert this dataframe to an interactive table.\"\n",
              "            style=\"display:none;\">\n",
              "\n",
              "  <svg xmlns=\"http://www.w3.org/2000/svg\" height=\"24px\" viewBox=\"0 -960 960 960\">\n",
              "    <path d=\"M120-120v-720h720v720H120Zm60-500h600v-160H180v160Zm220 220h160v-160H400v160Zm0 220h160v-160H400v160ZM180-400h160v-160H180v160Zm440 0h160v-160H620v160ZM180-180h160v-160H180v160Zm440 0h160v-160H620v160Z\"/>\n",
              "  </svg>\n",
              "    </button>\n",
              "\n",
              "  <style>\n",
              "    .colab-df-container {\n",
              "      display:flex;\n",
              "      gap: 12px;\n",
              "    }\n",
              "\n",
              "    .colab-df-convert {\n",
              "      background-color: #E8F0FE;\n",
              "      border: none;\n",
              "      border-radius: 50%;\n",
              "      cursor: pointer;\n",
              "      display: none;\n",
              "      fill: #1967D2;\n",
              "      height: 32px;\n",
              "      padding: 0 0 0 0;\n",
              "      width: 32px;\n",
              "    }\n",
              "\n",
              "    .colab-df-convert:hover {\n",
              "      background-color: #E2EBFA;\n",
              "      box-shadow: 0px 1px 2px rgba(60, 64, 67, 0.3), 0px 1px 3px 1px rgba(60, 64, 67, 0.15);\n",
              "      fill: #174EA6;\n",
              "    }\n",
              "\n",
              "    .colab-df-buttons div {\n",
              "      margin-bottom: 4px;\n",
              "    }\n",
              "\n",
              "    [theme=dark] .colab-df-convert {\n",
              "      background-color: #3B4455;\n",
              "      fill: #D2E3FC;\n",
              "    }\n",
              "\n",
              "    [theme=dark] .colab-df-convert:hover {\n",
              "      background-color: #434B5C;\n",
              "      box-shadow: 0px 1px 3px 1px rgba(0, 0, 0, 0.15);\n",
              "      filter: drop-shadow(0px 1px 2px rgba(0, 0, 0, 0.3));\n",
              "      fill: #FFFFFF;\n",
              "    }\n",
              "  </style>\n",
              "\n",
              "    <script>\n",
              "      const buttonEl =\n",
              "        document.querySelector('#df-c3b7ea89-dc83-4823-beea-95d1ced89499 button.colab-df-convert');\n",
              "      buttonEl.style.display =\n",
              "        google.colab.kernel.accessAllowed ? 'block' : 'none';\n",
              "\n",
              "      async function convertToInteractive(key) {\n",
              "        const element = document.querySelector('#df-c3b7ea89-dc83-4823-beea-95d1ced89499');\n",
              "        const dataTable =\n",
              "          await google.colab.kernel.invokeFunction('convertToInteractive',\n",
              "                                                    [key], {});\n",
              "        if (!dataTable) return;\n",
              "\n",
              "        const docLinkHtml = 'Like what you see? Visit the ' +\n",
              "          '<a target=\"_blank\" href=https://colab.research.google.com/notebooks/data_table.ipynb>data table notebook</a>'\n",
              "          + ' to learn more about interactive tables.';\n",
              "        element.innerHTML = '';\n",
              "        dataTable['output_type'] = 'display_data';\n",
              "        await google.colab.output.renderOutput(dataTable, element);\n",
              "        const docLink = document.createElement('div');\n",
              "        docLink.innerHTML = docLinkHtml;\n",
              "        element.appendChild(docLink);\n",
              "      }\n",
              "    </script>\n",
              "  </div>\n",
              "\n",
              "\n",
              "<div id=\"df-133a8bc8-22ad-4f04-85c3-c617a6e659de\">\n",
              "  <button class=\"colab-df-quickchart\" onclick=\"quickchart('df-133a8bc8-22ad-4f04-85c3-c617a6e659de')\"\n",
              "            title=\"Suggest charts\"\n",
              "            style=\"display:none;\">\n",
              "\n",
              "<svg xmlns=\"http://www.w3.org/2000/svg\" height=\"24px\"viewBox=\"0 0 24 24\"\n",
              "     width=\"24px\">\n",
              "    <g>\n",
              "        <path d=\"M19 3H5c-1.1 0-2 .9-2 2v14c0 1.1.9 2 2 2h14c1.1 0 2-.9 2-2V5c0-1.1-.9-2-2-2zM9 17H7v-7h2v7zm4 0h-2V7h2v10zm4 0h-2v-4h2v4z\"/>\n",
              "    </g>\n",
              "</svg>\n",
              "  </button>\n",
              "\n",
              "<style>\n",
              "  .colab-df-quickchart {\n",
              "      --bg-color: #E8F0FE;\n",
              "      --fill-color: #1967D2;\n",
              "      --hover-bg-color: #E2EBFA;\n",
              "      --hover-fill-color: #174EA6;\n",
              "      --disabled-fill-color: #AAA;\n",
              "      --disabled-bg-color: #DDD;\n",
              "  }\n",
              "\n",
              "  [theme=dark] .colab-df-quickchart {\n",
              "      --bg-color: #3B4455;\n",
              "      --fill-color: #D2E3FC;\n",
              "      --hover-bg-color: #434B5C;\n",
              "      --hover-fill-color: #FFFFFF;\n",
              "      --disabled-bg-color: #3B4455;\n",
              "      --disabled-fill-color: #666;\n",
              "  }\n",
              "\n",
              "  .colab-df-quickchart {\n",
              "    background-color: var(--bg-color);\n",
              "    border: none;\n",
              "    border-radius: 50%;\n",
              "    cursor: pointer;\n",
              "    display: none;\n",
              "    fill: var(--fill-color);\n",
              "    height: 32px;\n",
              "    padding: 0;\n",
              "    width: 32px;\n",
              "  }\n",
              "\n",
              "  .colab-df-quickchart:hover {\n",
              "    background-color: var(--hover-bg-color);\n",
              "    box-shadow: 0 1px 2px rgba(60, 64, 67, 0.3), 0 1px 3px 1px rgba(60, 64, 67, 0.15);\n",
              "    fill: var(--button-hover-fill-color);\n",
              "  }\n",
              "\n",
              "  .colab-df-quickchart-complete:disabled,\n",
              "  .colab-df-quickchart-complete:disabled:hover {\n",
              "    background-color: var(--disabled-bg-color);\n",
              "    fill: var(--disabled-fill-color);\n",
              "    box-shadow: none;\n",
              "  }\n",
              "\n",
              "  .colab-df-spinner {\n",
              "    border: 2px solid var(--fill-color);\n",
              "    border-color: transparent;\n",
              "    border-bottom-color: var(--fill-color);\n",
              "    animation:\n",
              "      spin 1s steps(1) infinite;\n",
              "  }\n",
              "\n",
              "  @keyframes spin {\n",
              "    0% {\n",
              "      border-color: transparent;\n",
              "      border-bottom-color: var(--fill-color);\n",
              "      border-left-color: var(--fill-color);\n",
              "    }\n",
              "    20% {\n",
              "      border-color: transparent;\n",
              "      border-left-color: var(--fill-color);\n",
              "      border-top-color: var(--fill-color);\n",
              "    }\n",
              "    30% {\n",
              "      border-color: transparent;\n",
              "      border-left-color: var(--fill-color);\n",
              "      border-top-color: var(--fill-color);\n",
              "      border-right-color: var(--fill-color);\n",
              "    }\n",
              "    40% {\n",
              "      border-color: transparent;\n",
              "      border-right-color: var(--fill-color);\n",
              "      border-top-color: var(--fill-color);\n",
              "    }\n",
              "    60% {\n",
              "      border-color: transparent;\n",
              "      border-right-color: var(--fill-color);\n",
              "    }\n",
              "    80% {\n",
              "      border-color: transparent;\n",
              "      border-right-color: var(--fill-color);\n",
              "      border-bottom-color: var(--fill-color);\n",
              "    }\n",
              "    90% {\n",
              "      border-color: transparent;\n",
              "      border-bottom-color: var(--fill-color);\n",
              "    }\n",
              "  }\n",
              "</style>\n",
              "\n",
              "  <script>\n",
              "    async function quickchart(key) {\n",
              "      const quickchartButtonEl =\n",
              "        document.querySelector('#' + key + ' button');\n",
              "      quickchartButtonEl.disabled = true;  // To prevent multiple clicks.\n",
              "      quickchartButtonEl.classList.add('colab-df-spinner');\n",
              "      try {\n",
              "        const charts = await google.colab.kernel.invokeFunction(\n",
              "            'suggestCharts', [key], {});\n",
              "      } catch (error) {\n",
              "        console.error('Error during call to suggestCharts:', error);\n",
              "      }\n",
              "      quickchartButtonEl.classList.remove('colab-df-spinner');\n",
              "      quickchartButtonEl.classList.add('colab-df-quickchart-complete');\n",
              "    }\n",
              "    (() => {\n",
              "      let quickchartButtonEl =\n",
              "        document.querySelector('#df-133a8bc8-22ad-4f04-85c3-c617a6e659de button');\n",
              "      quickchartButtonEl.style.display =\n",
              "        google.colab.kernel.accessAllowed ? 'block' : 'none';\n",
              "    })();\n",
              "  </script>\n",
              "</div>\n",
              "\n",
              "    </div>\n",
              "  </div>\n"
            ],
            "text/plain": [
              "               0       1     2     3     4     5     6     7\n",
              "0       Kiribati    None  None  None  None  None  None  None\n",
              "1       Djibouti    None  None  None  None  None  None  None\n",
              "2        Andorra    None  None  None  None  None  None  None\n",
              "3           Oman    None  None  None  None  None  None  None\n",
              "4       Kiribati    None  None  None  None  None  None  None\n",
              "...          ...     ...   ...   ...   ...   ...   ...   ...\n",
              "32556      China    None  None  None  None  None  None  None\n",
              "32557    Ireland    None  None  None  None  None  None  None\n",
              "32558  Christmas  Island  None  None  None  None  None  None\n",
              "32559    Myanmar    None  None  None  None  None  None  None\n",
              "32560     Bhutan    None  None  None  None  None  None  None\n",
              "\n",
              "[32561 rows x 8 columns]"
            ]
          },
          "execution_count": 35,
          "metadata": {},
          "output_type": "execute_result"
        }
      ],
      "source": [
        "serie_idade_pais.str.split(\" \", expand = True)"
      ]
    },
    {
      "cell_type": "markdown",
      "metadata": {
        "id": "KsrYO144GW5D"
      },
      "source": [
        "#### Acessando posições específicas das Strings\n",
        "\n",
        "Usando o slicing é possível retornar uma parte específica de todas as strings da Serie"
      ]
    },
    {
      "cell_type": "code",
      "execution_count": null,
      "metadata": {
        "id": "IuQqeHipGgV7"
      },
      "outputs": [],
      "source": [
        "serie_idade_pais.str[0:5]"
      ]
    },
    {
      "cell_type": "markdown",
      "metadata": {
        "id": "2iniFqy4ci4Z"
      },
      "source": [
        "## Agrupamento Numérico"
      ]
    },
    {
      "cell_type": "markdown",
      "metadata": {
        "id": "Lv9ArfMldXaT"
      },
      "source": [
        "#### Somando todos os valores\n",
        "Numa Serie com valores numéricos, é possível obter a soma de todos os valores com o método `Serie.sum()`"
      ]
    },
    {
      "cell_type": "code",
      "execution_count": null,
      "metadata": {
        "colab": {
          "base_uri": "https://localhost:8080/"
        },
        "id": "SqE7_52udXJc",
        "outputId": "c238b7cd-56a8-4bff-bc26-95f634c1b76d"
      },
      "outputs": [
        {
          "data": {
            "text/plain": [
              "1256257"
            ]
          },
          "execution_count": 39,
          "metadata": {},
          "output_type": "execute_result"
        }
      ],
      "source": [
        "serie_idades_nome.sum()"
      ]
    },
    {
      "cell_type": "markdown",
      "metadata": {
        "id": "cKNILWTceBQL"
      },
      "source": [
        "#### Obtendo a Média de todos os valores\n",
        "Com o comando `Serie.mean()` se tem a média de todos os valores numéricos da Serie."
      ]
    },
    {
      "cell_type": "code",
      "execution_count": null,
      "metadata": {
        "colab": {
          "base_uri": "https://localhost:8080/"
        },
        "id": "y810wSdweNYN",
        "outputId": "05c48298-57fe-4caa-8ef5-df1e8d99c6aa"
      },
      "outputs": [
        {
          "data": {
            "text/plain": [
              "38.58164675532078"
            ]
          },
          "execution_count": 41,
          "metadata": {},
          "output_type": "execute_result"
        }
      ],
      "source": [
        "serie_idades_nome.mean()"
      ]
    },
    {
      "cell_type": "markdown",
      "metadata": {
        "id": "J3eOrHR-eWvJ"
      },
      "source": [
        "#### Obtendo a mediana\n",
        "\n",
        "Mediana é o valor do meio de uma sequência e para conseguir esse valor com Series, use `Serie.median()`."
      ]
    },
    {
      "cell_type": "code",
      "execution_count": null,
      "metadata": {
        "colab": {
          "base_uri": "https://localhost:8080/"
        },
        "id": "hJ4RJkSPeXFv",
        "outputId": "a5dbb04b-0c11-4d20-c28f-93447bf8ab70"
      },
      "outputs": [
        {
          "data": {
            "text/plain": [
              "37.0"
            ]
          },
          "execution_count": 42,
          "metadata": {},
          "output_type": "execute_result"
        }
      ],
      "source": [
        "serie_idades_nome.median()"
      ]
    },
    {
      "cell_type": "markdown",
      "metadata": {
        "id": "nie0rXeSfAt1"
      },
      "source": [
        "#### Contando número de valores na Serie\n",
        "Usando `Serie.count()` se têm o número de elementos na Serie. Basicamente o número de registros que se têm ao usar Serie.size."
      ]
    },
    {
      "cell_type": "code",
      "execution_count": null,
      "metadata": {
        "colab": {
          "base_uri": "https://localhost:8080/"
        },
        "id": "Be_PfX-yfTgg",
        "outputId": "127ef3c6-3aa1-4c75-f95e-5f1bf8c65573"
      },
      "outputs": [
        {
          "data": {
            "text/plain": [
              "32561"
            ]
          },
          "execution_count": 43,
          "metadata": {},
          "output_type": "execute_result"
        }
      ],
      "source": [
        "serie_idades_nome.count()"
      ]
    },
    {
      "cell_type": "markdown",
      "metadata": {
        "id": "o15rO7uOfaPR"
      },
      "source": [
        "#### Desvio padrão\n",
        "\n",
        "Essa é uma medida que diz, basicamente, o quanto um conjunto de valores está espalhado comparado à média, quanto mais próximo de zero mais uniforme serão os valores e quanto mais longe, mais espalhados serão.\n",
        "Para conseguir o desvio padrão de uma Serie use `Serie.std()`."
      ]
    },
    {
      "cell_type": "code",
      "execution_count": null,
      "metadata": {
        "colab": {
          "base_uri": "https://localhost:8080/"
        },
        "id": "MxTvDMyIgNss",
        "outputId": "ae0b20eb-fc55-44ba-ccc6-b76367c4bee2"
      },
      "outputs": [
        {
          "data": {
            "text/plain": [
              "13.640432553581146"
            ]
          },
          "execution_count": 44,
          "metadata": {},
          "output_type": "execute_result"
        }
      ],
      "source": [
        "serie_idades_nome.std()"
      ]
    },
    {
      "cell_type": "markdown",
      "metadata": {
        "id": "G3f904vvgxPH"
      },
      "source": [
        "#### Variância\n",
        "\n",
        "Essa medida expressa o quanto os valores de um conjunto variam em relação à média deste."
      ]
    },
    {
      "cell_type": "code",
      "execution_count": null,
      "metadata": {
        "colab": {
          "base_uri": "https://localhost:8080/"
        },
        "id": "mmLTVOumhkdw",
        "outputId": "8955126b-a981-401e-c6f8-ce2ca5b5aa11"
      },
      "outputs": [
        {
          "data": {
            "text/plain": [
              "186.06140024879625"
            ]
          },
          "execution_count": 45,
          "metadata": {},
          "output_type": "execute_result"
        }
      ],
      "source": [
        "serie_idades_nome.var()"
      ]
    },
    {
      "cell_type": "markdown",
      "metadata": {
        "id": "V2-_qkN8hu8_"
      },
      "source": [
        "#### Combinando Filtragem e os comandos\n",
        "\n",
        "É possível filtrar os dados para só depois usar essas operações, por exemplo, a média dos valores do conjunto onde o país é \"Japão\":"
      ]
    },
    {
      "cell_type": "code",
      "execution_count": null,
      "metadata": {
        "colab": {
          "base_uri": "https://localhost:8080/"
        },
        "collapsed": true,
        "id": "u4_NELhOh-_e",
        "outputId": "ddb93478-de79-403b-c80c-cc29c4914f1c"
      },
      "outputs": [
        {
          "data": {
            "text/plain": [
              "38.333333333333336"
            ]
          },
          "execution_count": 52,
          "metadata": {},
          "output_type": "execute_result"
        }
      ],
      "source": [
        "serie_idade_pais.loc[\"Japan\"].mean()"
      ]
    },
    {
      "cell_type": "markdown",
      "metadata": {
        "id": "Z2tp547iiwGF"
      },
      "source": [
        "Ou a soma dos valores onde o país é \"Turquia\"."
      ]
    },
    {
      "cell_type": "code",
      "execution_count": null,
      "metadata": {
        "colab": {
          "base_uri": "https://localhost:8080/"
        },
        "id": "39G5TPDyiRbK",
        "outputId": "6fca0210-1d88-444f-ce73-8d1ddeb91fc9"
      },
      "outputs": [
        {
          "data": {
            "text/plain": [
              "4353"
            ]
          },
          "execution_count": 53,
          "metadata": {},
          "output_type": "execute_result"
        }
      ],
      "source": [
        "serie_idade_pais.loc[\"Turkey\"].sum()"
      ]
    },
    {
      "cell_type": "markdown",
      "metadata": {
        "id": "aOuArYbClhqf"
      },
      "source": [
        "#### Retornando \"cortes\" da Serie\n",
        "\n",
        "Usando o comando `Serie.quantile([x1, x2, ..., xn])` é possível acessar valores que estejam em pedaços definidos na Serie. Esse comando organiza os dados de forma crescente e retorna um valor para cada parâmetro definido (em porcentage), por exemplo, se a Serie tem 10 registros e passarmos 0.30 (30%) o comando retornará o 3° valor. Caso se passe o valor 0.50 (50%) ele retorna a mediana que é o valor que está no meio da Serie."
      ]
    },
    {
      "cell_type": "code",
      "execution_count": null,
      "metadata": {
        "colab": {
          "base_uri": "https://localhost:8080/",
          "height": 147
        },
        "id": "Ya5Qu27unlmu",
        "outputId": "5d9064f1-40a0-4528-8b9c-b99e405b2410"
      },
      "outputs": [
        {
          "data": {
            "text/html": [
              "<div>\n",
              "<style scoped>\n",
              "    .dataframe tbody tr th:only-of-type {\n",
              "        vertical-align: middle;\n",
              "    }\n",
              "\n",
              "    .dataframe tbody tr th {\n",
              "        vertical-align: top;\n",
              "    }\n",
              "\n",
              "    .dataframe thead th {\n",
              "        text-align: right;\n",
              "    }\n",
              "</style>\n",
              "<table border=\"1\" class=\"dataframe\">\n",
              "  <thead>\n",
              "    <tr style=\"text-align: right;\">\n",
              "      <th></th>\n",
              "      <th>0</th>\n",
              "    </tr>\n",
              "  </thead>\n",
              "  <tbody>\n",
              "    <tr>\n",
              "      <th>0.25</th>\n",
              "      <td>28.0</td>\n",
              "    </tr>\n",
              "    <tr>\n",
              "      <th>0.50</th>\n",
              "      <td>37.0</td>\n",
              "    </tr>\n",
              "  </tbody>\n",
              "</table>\n",
              "</div><br><label><b>dtype:</b> float64</label>"
            ],
            "text/plain": [
              "0.25    28.0\n",
              "0.50    37.0\n",
              "dtype: float64"
            ]
          },
          "execution_count": 54,
          "metadata": {},
          "output_type": "execute_result"
        }
      ],
      "source": [
        "serie_idade_pais.quantile([0.25,0.5])"
      ]
    },
    {
      "cell_type": "markdown",
      "metadata": {
        "id": "SFCN-taIcpbo"
      },
      "source": [
        "## Agrupamento Categórico\n",
        "\n"
      ]
    },
    {
      "cell_type": "markdown",
      "metadata": {
        "id": "WIrT5Abs65J-"
      },
      "source": [
        "Para trabalhar com esse tipo de agrupamento, usamos uma Serie em que os **indices** são valores padrões (0, 1, 2, ..., n) e os **valores** serão os países."
      ]
    },
    {
      "cell_type": "markdown",
      "metadata": {
        "id": "wPeoGKUSoysQ"
      },
      "source": [
        "#### Contando Valores\n",
        "O comando `value_counts()` retorna a quantidade de valores que correspondem a cada grupo, ou seja, numa Serie de países, retornará quantas vezes aparece \"Japão\", \"Coréia\", \"Irã\", etc. O retorno é feito em forma de Serie."
      ]
    },
    {
      "cell_type": "code",
      "execution_count": null,
      "metadata": {
        "colab": {
          "base_uri": "https://localhost:8080/",
          "height": 458
        },
        "collapsed": true,
        "id": "w-PVFWYVpJKE",
        "outputId": "5765c6a6-6ebd-4ee7-fd56-4cb2e988a52f"
      },
      "outputs": [
        {
          "data": {
            "text/html": [
              "<div>\n",
              "<style scoped>\n",
              "    .dataframe tbody tr th:only-of-type {\n",
              "        vertical-align: middle;\n",
              "    }\n",
              "\n",
              "    .dataframe tbody tr th {\n",
              "        vertical-align: top;\n",
              "    }\n",
              "\n",
              "    .dataframe thead th {\n",
              "        text-align: right;\n",
              "    }\n",
              "</style>\n",
              "<table border=\"1\" class=\"dataframe\">\n",
              "  <thead>\n",
              "    <tr style=\"text-align: right;\">\n",
              "      <th></th>\n",
              "      <th>count</th>\n",
              "    </tr>\n",
              "  </thead>\n",
              "  <tbody>\n",
              "    <tr>\n",
              "      <th>Korea</th>\n",
              "      <td>260</td>\n",
              "    </tr>\n",
              "    <tr>\n",
              "      <th>Congo</th>\n",
              "      <td>241</td>\n",
              "    </tr>\n",
              "    <tr>\n",
              "      <th>South Africa</th>\n",
              "      <td>164</td>\n",
              "    </tr>\n",
              "    <tr>\n",
              "      <th>Ecuador</th>\n",
              "      <td>162</td>\n",
              "    </tr>\n",
              "    <tr>\n",
              "      <th>Jordan</th>\n",
              "      <td>161</td>\n",
              "    </tr>\n",
              "    <tr>\n",
              "      <th>...</th>\n",
              "      <td>...</td>\n",
              "    </tr>\n",
              "    <tr>\n",
              "      <th>Turkey</th>\n",
              "      <td>110</td>\n",
              "    </tr>\n",
              "    <tr>\n",
              "      <th>Fiji</th>\n",
              "      <td>109</td>\n",
              "    </tr>\n",
              "    <tr>\n",
              "      <th>Azerbaijan</th>\n",
              "      <td>108</td>\n",
              "    </tr>\n",
              "    <tr>\n",
              "      <th>Tajikistan</th>\n",
              "      <td>106</td>\n",
              "    </tr>\n",
              "    <tr>\n",
              "      <th>Liberia</th>\n",
              "      <td>104</td>\n",
              "    </tr>\n",
              "  </tbody>\n",
              "</table>\n",
              "<p>243 rows × 1 columns</p>\n",
              "</div><br><label><b>dtype:</b> int64</label>"
            ],
            "text/plain": [
              "Korea           260\n",
              "Congo           241\n",
              "South Africa    164\n",
              "Ecuador         162\n",
              "Jordan          161\n",
              "               ... \n",
              "Turkey          110\n",
              "Fiji            109\n",
              "Azerbaijan      108\n",
              "Tajikistan      106\n",
              "Liberia         104\n",
              "Name: count, Length: 243, dtype: int64"
            ]
          },
          "execution_count": 61,
          "metadata": {},
          "output_type": "execute_result"
        }
      ],
      "source": [
        "serie_idade_pais.value_counts()"
      ]
    },
    {
      "cell_type": "markdown",
      "metadata": {
        "id": "SNpdxwxEpY7a"
      },
      "source": [
        "Usando o parâmetro `normalize = True` dentro de value_counts() os valores são retornados em forma de porcentagem."
      ]
    },
    {
      "cell_type": "code",
      "execution_count": null,
      "metadata": {
        "colab": {
          "base_uri": "https://localhost:8080/",
          "height": 458
        },
        "collapsed": true,
        "id": "1foxZDFrpmeI",
        "outputId": "7d53827d-f298-40c7-ea08-a8a77fb9da9f"
      },
      "outputs": [
        {
          "data": {
            "text/html": [
              "<div>\n",
              "<style scoped>\n",
              "    .dataframe tbody tr th:only-of-type {\n",
              "        vertical-align: middle;\n",
              "    }\n",
              "\n",
              "    .dataframe tbody tr th {\n",
              "        vertical-align: top;\n",
              "    }\n",
              "\n",
              "    .dataframe thead th {\n",
              "        text-align: right;\n",
              "    }\n",
              "</style>\n",
              "<table border=\"1\" class=\"dataframe\">\n",
              "  <thead>\n",
              "    <tr style=\"text-align: right;\">\n",
              "      <th></th>\n",
              "      <th>proportion</th>\n",
              "    </tr>\n",
              "  </thead>\n",
              "  <tbody>\n",
              "    <tr>\n",
              "      <th>Korea</th>\n",
              "      <td>0.007985</td>\n",
              "    </tr>\n",
              "    <tr>\n",
              "      <th>Congo</th>\n",
              "      <td>0.007401</td>\n",
              "    </tr>\n",
              "    <tr>\n",
              "      <th>South Africa</th>\n",
              "      <td>0.005037</td>\n",
              "    </tr>\n",
              "    <tr>\n",
              "      <th>Ecuador</th>\n",
              "      <td>0.004975</td>\n",
              "    </tr>\n",
              "    <tr>\n",
              "      <th>Jordan</th>\n",
              "      <td>0.004945</td>\n",
              "    </tr>\n",
              "    <tr>\n",
              "      <th>...</th>\n",
              "      <td>...</td>\n",
              "    </tr>\n",
              "    <tr>\n",
              "      <th>Turkey</th>\n",
              "      <td>0.003378</td>\n",
              "    </tr>\n",
              "    <tr>\n",
              "      <th>Fiji</th>\n",
              "      <td>0.003348</td>\n",
              "    </tr>\n",
              "    <tr>\n",
              "      <th>Azerbaijan</th>\n",
              "      <td>0.003317</td>\n",
              "    </tr>\n",
              "    <tr>\n",
              "      <th>Tajikistan</th>\n",
              "      <td>0.003255</td>\n",
              "    </tr>\n",
              "    <tr>\n",
              "      <th>Liberia</th>\n",
              "      <td>0.003194</td>\n",
              "    </tr>\n",
              "  </tbody>\n",
              "</table>\n",
              "<p>243 rows × 1 columns</p>\n",
              "</div><br><label><b>dtype:</b> float64</label>"
            ],
            "text/plain": [
              "Korea           0.007985\n",
              "Congo           0.007401\n",
              "South Africa    0.005037\n",
              "Ecuador         0.004975\n",
              "Jordan          0.004945\n",
              "                  ...   \n",
              "Turkey          0.003378\n",
              "Fiji            0.003348\n",
              "Azerbaijan      0.003317\n",
              "Tajikistan      0.003255\n",
              "Liberia         0.003194\n",
              "Name: proportion, Length: 243, dtype: float64"
            ]
          },
          "execution_count": 66,
          "metadata": {},
          "output_type": "execute_result"
        }
      ],
      "source": [
        "serie_idade_pais.value_counts(normalize = True)"
      ]
    },
    {
      "cell_type": "markdown",
      "metadata": {
        "id": "A3SWBY-Ip_3I"
      },
      "source": [
        "#### Retornando Categorias Únicas\n",
        "\n",
        "Com o comando `Serie.unique()` teremos o retorno de um array com os valores únicos que aparecem na Serie."
      ]
    },
    {
      "cell_type": "code",
      "execution_count": null,
      "metadata": {
        "colab": {
          "base_uri": "https://localhost:8080/"
        },
        "collapsed": true,
        "id": "8nsSqip0qOlv",
        "outputId": "ef8e728d-8101-4727-ad4f-5df1032eb10b"
      },
      "outputs": [
        {
          "data": {
            "text/plain": [
              "array(['Kiribati', 'Djibouti', 'Andorra', 'Oman', 'Mauritius', 'Yemen',\n",
              "       'Moldova', 'Tunisia', 'Guinea', 'Cocos (Keeling) Islands',\n",
              "       'Swaziland', 'Hungary', 'Burkina Faso', 'Montserrat', 'Tonga',\n",
              "       'Serbia', 'Nauru', 'Zambia', 'Croatia', 'French Polynesia',\n",
              "       'Mongolia', 'Liechtenstein', 'Chad', 'Norfolk Island', 'Mayotte',\n",
              "       'Saint Vincent and the Grenadines', 'Nigeria', 'Taiwan', 'Aruba',\n",
              "       'Norway', 'Faroe Islands', 'Latvia', 'Saint Helena', 'Canada',\n",
              "       'Ecuador', 'Ireland', 'France', 'Niger', 'Myanmar', 'Guernsey',\n",
              "       'Cyprus', 'Ghana', 'French Guiana', 'Grenada',\n",
              "       'French Southern Territories', 'Jordan', 'Lesotho', 'Togo',\n",
              "       'Tuvalu', 'New Caledonia', 'Somalia', 'Zimbabwe', 'Rwanda',\n",
              "       'Pitcairn Islands', 'Korea', 'Albania', 'El Salvador',\n",
              "       'Seychelles', 'Panama', 'Bermuda', 'Equatorial Guinea',\n",
              "       'Saint Martin', 'Solomon Islands', 'San Marino', 'Peru', 'Romania',\n",
              "       'South Africa', 'Costa Rica', 'Czech Republic',\n",
              "       'Falkland Islands (Malvinas)', 'United States Virgin Islands',\n",
              "       'Guyana', 'Bahamas', 'Malta', 'Nepal', 'Netherlands Antilles',\n",
              "       'Slovakia (Slovak Republic)', 'Vietnam', 'Venezuela',\n",
              "       'American Samoa', 'United States Minor Outlying Islands',\n",
              "       'Mauritania', 'South Georgia and the South Sandwich Islands',\n",
              "       'Mali', 'Mexico', 'Dominica', 'Guinea-Bissau', 'United Kingdom',\n",
              "       'Chile', 'Luxembourg', 'Malaysia', 'Botswana', 'Guam',\n",
              "       'Bangladesh', 'Liberia', 'Ukraine', 'Morocco', 'Brazil', 'Palau',\n",
              "       'Palestinian Territory', 'Macao', 'Spain', 'Tokelau', 'Guadeloupe',\n",
              "       'Bahrain', 'Trinidad and Tobago', 'Antigua and Barbuda',\n",
              "       'Hong Kong', 'Puerto Rico', 'Samoa', 'Papua New Guinea', 'Gabon',\n",
              "       'Portugal', 'Greece', 'North Macedonia', 'Georgia',\n",
              "       \"Lao People's Democratic Republic\", 'Australia', 'Guatemala',\n",
              "       'Lebanon', 'Fiji', 'Monaco', 'Heard Island and McDonald Islands',\n",
              "       'Iceland', 'Reunion', 'Vanuatu', 'Maldives', 'Cook Islands',\n",
              "       'Germany', 'Austria', 'Senegal', 'Congo', 'Japan', 'Israel',\n",
              "       'Netherlands', 'Eritrea', 'Niue', 'Namibia', 'Martinique',\n",
              "       'Svalbard & Jan Mayen Islands', 'Suriname',\n",
              "       'United States of America', 'Italy', 'Dominican Republic',\n",
              "       'Greenland', 'Nicaragua', 'India', 'Saint Barthelemy',\n",
              "       'Central African Republic', 'Egypt', 'Russian Federation',\n",
              "       'Burundi', 'Brunei Darussalam', 'Azerbaijan', 'Cape Verde', 'Iran',\n",
              "       'Colombia', 'Antarctica (the territory South of 60 deg S)',\n",
              "       'Bolivia', 'Barbados', 'Micronesia', 'Sierra Leone', 'Kenya',\n",
              "       'Cayman Islands', 'Philippines', 'Saint Pierre and Miquelon',\n",
              "       'Saint Lucia', 'China', 'New Zealand', 'Kazakhstan', 'Cambodia',\n",
              "       'Bosnia and Herzegovina', 'Holy See (Vatican City State)',\n",
              "       'Marshall Islands', 'Algeria', 'Benin', 'Sudan',\n",
              "       'Saint Kitts and Nevis', 'Sweden', 'Belgium', 'Montenegro',\n",
              "       'Gambia', 'Comoros', 'Mozambique', 'Switzerland', 'Iraq', 'Turkey',\n",
              "       'Afghanistan', 'Indonesia', \"Cote d'Ivoire\", 'Estonia',\n",
              "       'Syrian Arab Republic', 'Madagascar', 'Kuwait', 'Poland',\n",
              "       'British Indian Ocean Territory (Chagos Archipelago)',\n",
              "       'Uzbekistan', 'Wallis and Futuna', 'Paraguay', 'Western Sahara',\n",
              "       'Tanzania', 'Saudi Arabia', 'Tajikistan', 'Cuba', 'Singapore',\n",
              "       'Bhutan', 'Armenia', 'Argentina', 'Turks and Caicos Islands',\n",
              "       'Kyrgyz Republic', 'Cameroon', 'Anguilla', 'Jersey', 'Gibraltar',\n",
              "       'Lithuania', 'Bulgaria', 'Sao Tome and Principe', 'Thailand',\n",
              "       'Libyan Arab Jamahiriya', 'Honduras', 'Jamaica', 'Malawi',\n",
              "       'Belize', 'Uganda', 'United Arab Emirates', 'Sri Lanka',\n",
              "       'Turkmenistan', 'Qatar', 'Denmark', 'Belarus', 'Haiti',\n",
              "       'Bouvet Island (Bouvetoya)', 'British Virgin Islands', 'Uruguay',\n",
              "       'Timor-Leste', 'Ethiopia', 'Pakistan', 'Finland',\n",
              "       'Christmas Island', 'Slovenia', 'Northern Mariana Islands',\n",
              "       'Angola', 'Isle of Man'], dtype=object)"
            ]
          },
          "execution_count": 67,
          "metadata": {},
          "output_type": "execute_result"
        }
      ],
      "source": [
        "serie_idade_pais.unique()"
      ]
    },
    {
      "cell_type": "markdown",
      "metadata": {
        "id": "vMSnBRN4qWn3"
      },
      "source": [
        "#### Retornando a quantidade de Elementos Únicos\n",
        "\n",
        "Pode-se saber quantos valores distintos estão na Serie através do comando `Serie.nunique()`"
      ]
    },
    {
      "cell_type": "code",
      "execution_count": null,
      "metadata": {
        "colab": {
          "base_uri": "https://localhost:8080/"
        },
        "id": "zG9Sw1qUqcnH",
        "outputId": "54a2715a-d4e9-4cc4-e6a6-469e9c9d09e1"
      },
      "outputs": [
        {
          "data": {
            "text/plain": [
              "243"
            ]
          },
          "execution_count": 69,
          "metadata": {},
          "output_type": "execute_result"
        }
      ],
      "source": [
        "serie_idade_pais.nunique()"
      ]
    },
    {
      "cell_type": "markdown",
      "metadata": {
        "id": "84f0uzSgQS02"
      },
      "source": [
        "## Valores Faltantes"
      ]
    },
    {
      "cell_type": "markdown",
      "metadata": {
        "id": "EuApcclF1Gbd"
      },
      "source": [
        "Primeiro, criamos uma Serie com os valores faltantes"
      ]
    },
    {
      "cell_type": "code",
      "execution_count": null,
      "metadata": {
        "colab": {
          "base_uri": "https://localhost:8080/",
          "height": 303
        },
        "collapsed": true,
        "id": "b0nqWOOv0l0X",
        "outputId": "a0eda245-172a-4be5-f843-953f9a5bbf0f"
      },
      "outputs": [
        {
          "data": {
            "text/html": [
              "<div>\n",
              "<style scoped>\n",
              "    .dataframe tbody tr th:only-of-type {\n",
              "        vertical-align: middle;\n",
              "    }\n",
              "\n",
              "    .dataframe tbody tr th {\n",
              "        vertical-align: top;\n",
              "    }\n",
              "\n",
              "    .dataframe thead th {\n",
              "        text-align: right;\n",
              "    }\n",
              "</style>\n",
              "<table border=\"1\" class=\"dataframe\">\n",
              "  <thead>\n",
              "    <tr style=\"text-align: right;\">\n",
              "      <th></th>\n",
              "      <th>0</th>\n",
              "    </tr>\n",
              "  </thead>\n",
              "  <tbody>\n",
              "    <tr>\n",
              "      <th>0</th>\n",
              "      <td>1.0</td>\n",
              "    </tr>\n",
              "    <tr>\n",
              "      <th>1</th>\n",
              "      <td>2.0</td>\n",
              "    </tr>\n",
              "    <tr>\n",
              "      <th>2</th>\n",
              "      <td>3.0</td>\n",
              "    </tr>\n",
              "    <tr>\n",
              "      <th>3</th>\n",
              "      <td>4.0</td>\n",
              "    </tr>\n",
              "    <tr>\n",
              "      <th>4</th>\n",
              "      <td>NaN</td>\n",
              "    </tr>\n",
              "    <tr>\n",
              "      <th>5</th>\n",
              "      <td>5.0</td>\n",
              "    </tr>\n",
              "    <tr>\n",
              "      <th>6</th>\n",
              "      <td>NaN</td>\n",
              "    </tr>\n",
              "  </tbody>\n",
              "</table>\n",
              "</div><br><label><b>dtype:</b> float64</label>"
            ],
            "text/plain": [
              "0    1.0\n",
              "1    2.0\n",
              "2    3.0\n",
              "3    4.0\n",
              "4    NaN\n",
              "5    5.0\n",
              "6    NaN\n",
              "dtype: float64"
            ]
          },
          "execution_count": 6,
          "metadata": {},
          "output_type": "execute_result"
        }
      ],
      "source": [
        "serie_faltante = pd.Series([1, 2, 3, 4, np.nan, 5, np.nan])\n",
        "\n",
        "serie_faltante"
      ]
    },
    {
      "cell_type": "markdown",
      "metadata": {
        "id": "I4mddRaH1MMB"
      },
      "source": [
        "#### Identificando e Contando os valores faltantes\n",
        "\n",
        "Com o método `Serie.isna()` é possível identificar através de True ou False, se os elementos da Serie em questão são NaN ou não"
      ]
    },
    {
      "cell_type": "code",
      "execution_count": null,
      "metadata": {
        "colab": {
          "base_uri": "https://localhost:8080/",
          "height": 303
        },
        "collapsed": true,
        "id": "GY7Fqwvi1fYJ",
        "outputId": "f820097b-4711-4281-c3cc-e5b0413fad8c"
      },
      "outputs": [
        {
          "data": {
            "text/html": [
              "<div>\n",
              "<style scoped>\n",
              "    .dataframe tbody tr th:only-of-type {\n",
              "        vertical-align: middle;\n",
              "    }\n",
              "\n",
              "    .dataframe tbody tr th {\n",
              "        vertical-align: top;\n",
              "    }\n",
              "\n",
              "    .dataframe thead th {\n",
              "        text-align: right;\n",
              "    }\n",
              "</style>\n",
              "<table border=\"1\" class=\"dataframe\">\n",
              "  <thead>\n",
              "    <tr style=\"text-align: right;\">\n",
              "      <th></th>\n",
              "      <th>0</th>\n",
              "    </tr>\n",
              "  </thead>\n",
              "  <tbody>\n",
              "    <tr>\n",
              "      <th>0</th>\n",
              "      <td>False</td>\n",
              "    </tr>\n",
              "    <tr>\n",
              "      <th>1</th>\n",
              "      <td>False</td>\n",
              "    </tr>\n",
              "    <tr>\n",
              "      <th>2</th>\n",
              "      <td>False</td>\n",
              "    </tr>\n",
              "    <tr>\n",
              "      <th>3</th>\n",
              "      <td>False</td>\n",
              "    </tr>\n",
              "    <tr>\n",
              "      <th>4</th>\n",
              "      <td>True</td>\n",
              "    </tr>\n",
              "    <tr>\n",
              "      <th>5</th>\n",
              "      <td>False</td>\n",
              "    </tr>\n",
              "    <tr>\n",
              "      <th>6</th>\n",
              "      <td>True</td>\n",
              "    </tr>\n",
              "  </tbody>\n",
              "</table>\n",
              "</div><br><label><b>dtype:</b> bool</label>"
            ],
            "text/plain": [
              "0    False\n",
              "1    False\n",
              "2    False\n",
              "3    False\n",
              "4     True\n",
              "5    False\n",
              "6     True\n",
              "dtype: bool"
            ]
          },
          "execution_count": 7,
          "metadata": {},
          "output_type": "execute_result"
        }
      ],
      "source": [
        "serie_faltante.isna()"
      ]
    },
    {
      "cell_type": "markdown",
      "metadata": {
        "id": "ySt2jIbv1peh"
      },
      "source": [
        "Caso queiramos saber *quantos* são os valores faltantes, basta adicionar `.sum()` ao comando Serie.isna()"
      ]
    },
    {
      "cell_type": "code",
      "execution_count": null,
      "metadata": {
        "colab": {
          "base_uri": "https://localhost:8080/"
        },
        "id": "OJZRJIBV11Ht",
        "outputId": "334b1fc2-d31e-4a66-e7a3-c0b0f371e888"
      },
      "outputs": [
        {
          "data": {
            "text/plain": [
              "2"
            ]
          },
          "execution_count": 8,
          "metadata": {},
          "output_type": "execute_result"
        }
      ],
      "source": [
        "serie_faltante.isna().sum()"
      ]
    },
    {
      "cell_type": "markdown",
      "metadata": {
        "id": "8cFOYden2EQA"
      },
      "source": [
        "Outra forma de contabilizar os valores NaN é com o uso do parâmetro **dropna = False** no método `Serie.value_counts()`, dessa forma será retornado uma Serie com a quantidade de cada valor e os valores NaN terão seu número exibido."
      ]
    },
    {
      "cell_type": "code",
      "execution_count": null,
      "metadata": {
        "colab": {
          "base_uri": "https://localhost:8080/",
          "height": 272
        },
        "collapsed": true,
        "id": "n4gA4-fL2eKK",
        "outputId": "bb1b6950-1ceb-4b44-9677-41d16277eb83"
      },
      "outputs": [
        {
          "data": {
            "text/html": [
              "<div>\n",
              "<style scoped>\n",
              "    .dataframe tbody tr th:only-of-type {\n",
              "        vertical-align: middle;\n",
              "    }\n",
              "\n",
              "    .dataframe tbody tr th {\n",
              "        vertical-align: top;\n",
              "    }\n",
              "\n",
              "    .dataframe thead th {\n",
              "        text-align: right;\n",
              "    }\n",
              "</style>\n",
              "<table border=\"1\" class=\"dataframe\">\n",
              "  <thead>\n",
              "    <tr style=\"text-align: right;\">\n",
              "      <th></th>\n",
              "      <th>count</th>\n",
              "    </tr>\n",
              "  </thead>\n",
              "  <tbody>\n",
              "    <tr>\n",
              "      <th>NaN</th>\n",
              "      <td>2</td>\n",
              "    </tr>\n",
              "    <tr>\n",
              "      <th>1.0</th>\n",
              "      <td>1</td>\n",
              "    </tr>\n",
              "    <tr>\n",
              "      <th>2.0</th>\n",
              "      <td>1</td>\n",
              "    </tr>\n",
              "    <tr>\n",
              "      <th>3.0</th>\n",
              "      <td>1</td>\n",
              "    </tr>\n",
              "    <tr>\n",
              "      <th>4.0</th>\n",
              "      <td>1</td>\n",
              "    </tr>\n",
              "    <tr>\n",
              "      <th>5.0</th>\n",
              "      <td>1</td>\n",
              "    </tr>\n",
              "  </tbody>\n",
              "</table>\n",
              "</div><br><label><b>dtype:</b> int64</label>"
            ],
            "text/plain": [
              "NaN    2\n",
              "1.0    1\n",
              "2.0    1\n",
              "3.0    1\n",
              "4.0    1\n",
              "5.0    1\n",
              "Name: count, dtype: int64"
            ]
          },
          "execution_count": 9,
          "metadata": {},
          "output_type": "execute_result"
        }
      ],
      "source": [
        "serie_faltante.value_counts(dropna = False)"
      ]
    },
    {
      "cell_type": "markdown",
      "metadata": {
        "id": "2PjXxnKu2k_1"
      },
      "source": [
        "### Maneiras de Corrigir Valores Faltantes *em Series Numéricas*"
      ]
    },
    {
      "cell_type": "markdown",
      "metadata": {
        "id": "a2mcetzJ2sb6"
      },
      "source": [
        "#### Preenchimento\n",
        "\n",
        "Consiste em substituir esses valores por qualquer outro. Isso é feito usando a função `Serie.fillna(x)` x = valor que substituirá NaN."
      ]
    },
    {
      "cell_type": "markdown",
      "metadata": {
        "id": "sT4Fx2OC3gVR"
      },
      "source": [
        "Aqui os valores são preenchidos por zero (0):"
      ]
    },
    {
      "cell_type": "code",
      "execution_count": null,
      "metadata": {
        "colab": {
          "base_uri": "https://localhost:8080/",
          "height": 303
        },
        "collapsed": true,
        "id": "6pnFDD5w2knR",
        "outputId": "1b5a6620-6fca-466b-ffd5-3a15d2831b81"
      },
      "outputs": [
        {
          "data": {
            "text/html": [
              "<div>\n",
              "<style scoped>\n",
              "    .dataframe tbody tr th:only-of-type {\n",
              "        vertical-align: middle;\n",
              "    }\n",
              "\n",
              "    .dataframe tbody tr th {\n",
              "        vertical-align: top;\n",
              "    }\n",
              "\n",
              "    .dataframe thead th {\n",
              "        text-align: right;\n",
              "    }\n",
              "</style>\n",
              "<table border=\"1\" class=\"dataframe\">\n",
              "  <thead>\n",
              "    <tr style=\"text-align: right;\">\n",
              "      <th></th>\n",
              "      <th>0</th>\n",
              "    </tr>\n",
              "  </thead>\n",
              "  <tbody>\n",
              "    <tr>\n",
              "      <th>0</th>\n",
              "      <td>1.0</td>\n",
              "    </tr>\n",
              "    <tr>\n",
              "      <th>1</th>\n",
              "      <td>2.0</td>\n",
              "    </tr>\n",
              "    <tr>\n",
              "      <th>2</th>\n",
              "      <td>3.0</td>\n",
              "    </tr>\n",
              "    <tr>\n",
              "      <th>3</th>\n",
              "      <td>4.0</td>\n",
              "    </tr>\n",
              "    <tr>\n",
              "      <th>4</th>\n",
              "      <td>0.0</td>\n",
              "    </tr>\n",
              "    <tr>\n",
              "      <th>5</th>\n",
              "      <td>5.0</td>\n",
              "    </tr>\n",
              "    <tr>\n",
              "      <th>6</th>\n",
              "      <td>0.0</td>\n",
              "    </tr>\n",
              "  </tbody>\n",
              "</table>\n",
              "</div><br><label><b>dtype:</b> float64</label>"
            ],
            "text/plain": [
              "0    1.0\n",
              "1    2.0\n",
              "2    3.0\n",
              "3    4.0\n",
              "4    0.0\n",
              "5    5.0\n",
              "6    0.0\n",
              "dtype: float64"
            ]
          },
          "execution_count": 10,
          "metadata": {},
          "output_type": "execute_result"
        }
      ],
      "source": [
        "serie_faltante.fillna(0)"
      ]
    },
    {
      "cell_type": "markdown",
      "metadata": {
        "id": "Fj6dK9cG3lUj"
      },
      "source": [
        "O modo mais comum e considerado correto de tratar os valores faltantes é **preenche-los com a média**:"
      ]
    },
    {
      "cell_type": "code",
      "execution_count": null,
      "metadata": {
        "colab": {
          "base_uri": "https://localhost:8080/",
          "height": 303
        },
        "collapsed": true,
        "id": "OIw0eaSP3sqg",
        "outputId": "1c10056d-100c-48e2-8d80-843c4aa4ef9a"
      },
      "outputs": [
        {
          "data": {
            "text/html": [
              "<div>\n",
              "<style scoped>\n",
              "    .dataframe tbody tr th:only-of-type {\n",
              "        vertical-align: middle;\n",
              "    }\n",
              "\n",
              "    .dataframe tbody tr th {\n",
              "        vertical-align: top;\n",
              "    }\n",
              "\n",
              "    .dataframe thead th {\n",
              "        text-align: right;\n",
              "    }\n",
              "</style>\n",
              "<table border=\"1\" class=\"dataframe\">\n",
              "  <thead>\n",
              "    <tr style=\"text-align: right;\">\n",
              "      <th></th>\n",
              "      <th>0</th>\n",
              "    </tr>\n",
              "  </thead>\n",
              "  <tbody>\n",
              "    <tr>\n",
              "      <th>0</th>\n",
              "      <td>1.0</td>\n",
              "    </tr>\n",
              "    <tr>\n",
              "      <th>1</th>\n",
              "      <td>2.0</td>\n",
              "    </tr>\n",
              "    <tr>\n",
              "      <th>2</th>\n",
              "      <td>3.0</td>\n",
              "    </tr>\n",
              "    <tr>\n",
              "      <th>3</th>\n",
              "      <td>4.0</td>\n",
              "    </tr>\n",
              "    <tr>\n",
              "      <th>4</th>\n",
              "      <td>3.0</td>\n",
              "    </tr>\n",
              "    <tr>\n",
              "      <th>5</th>\n",
              "      <td>5.0</td>\n",
              "    </tr>\n",
              "    <tr>\n",
              "      <th>6</th>\n",
              "      <td>3.0</td>\n",
              "    </tr>\n",
              "  </tbody>\n",
              "</table>\n",
              "</div><br><label><b>dtype:</b> float64</label>"
            ],
            "text/plain": [
              "0    1.0\n",
              "1    2.0\n",
              "2    3.0\n",
              "3    4.0\n",
              "4    3.0\n",
              "5    5.0\n",
              "6    3.0\n",
              "dtype: float64"
            ]
          },
          "execution_count": 12,
          "metadata": {},
          "output_type": "execute_result"
        }
      ],
      "source": [
        "serie_faltante.fillna(serie_faltante.mean())"
      ]
    },
    {
      "cell_type": "markdown",
      "metadata": {
        "id": "9W7-J_T03B6_"
      },
      "source": [
        "#### Apagando linhas com NaN\n",
        "\n",
        "Outra forma de corrigir tal problema é literalmente apagar as linhas cujo valor é NaN por meio do comando `Serie.dropna()`, mas essa maneira não é muito aconselhável uma vez que faz com que se perca valores da database."
      ]
    },
    {
      "cell_type": "code",
      "execution_count": null,
      "metadata": {
        "colab": {
          "base_uri": "https://localhost:8080/",
          "height": 241
        },
        "id": "L3-2yfTW3XWE",
        "outputId": "bda9dbee-16f7-4ebc-b7eb-14b45dc77a27"
      },
      "outputs": [
        {
          "data": {
            "text/html": [
              "<div>\n",
              "<style scoped>\n",
              "    .dataframe tbody tr th:only-of-type {\n",
              "        vertical-align: middle;\n",
              "    }\n",
              "\n",
              "    .dataframe tbody tr th {\n",
              "        vertical-align: top;\n",
              "    }\n",
              "\n",
              "    .dataframe thead th {\n",
              "        text-align: right;\n",
              "    }\n",
              "</style>\n",
              "<table border=\"1\" class=\"dataframe\">\n",
              "  <thead>\n",
              "    <tr style=\"text-align: right;\">\n",
              "      <th></th>\n",
              "      <th>0</th>\n",
              "    </tr>\n",
              "  </thead>\n",
              "  <tbody>\n",
              "    <tr>\n",
              "      <th>0</th>\n",
              "      <td>1.0</td>\n",
              "    </tr>\n",
              "    <tr>\n",
              "      <th>1</th>\n",
              "      <td>2.0</td>\n",
              "    </tr>\n",
              "    <tr>\n",
              "      <th>2</th>\n",
              "      <td>3.0</td>\n",
              "    </tr>\n",
              "    <tr>\n",
              "      <th>3</th>\n",
              "      <td>4.0</td>\n",
              "    </tr>\n",
              "    <tr>\n",
              "      <th>5</th>\n",
              "      <td>5.0</td>\n",
              "    </tr>\n",
              "  </tbody>\n",
              "</table>\n",
              "</div><br><label><b>dtype:</b> float64</label>"
            ],
            "text/plain": [
              "0    1.0\n",
              "1    2.0\n",
              "2    3.0\n",
              "3    4.0\n",
              "5    5.0\n",
              "dtype: float64"
            ]
          },
          "execution_count": 11,
          "metadata": {},
          "output_type": "execute_result"
        }
      ],
      "source": [
        "serie_faltante.dropna()"
      ]
    },
    {
      "cell_type": "markdown",
      "metadata": {
        "id": "VMA690yR4BmG"
      },
      "source": [
        "### Maneiras de Corrigir Valores Faltantes *em Series Categóricas*"
      ]
    },
    {
      "cell_type": "code",
      "execution_count": null,
      "metadata": {
        "colab": {
          "base_uri": "https://localhost:8080/",
          "height": 272
        },
        "collapsed": true,
        "id": "2nx4u1fc4L5n",
        "outputId": "5b790670-021e-4460-e2a0-47b3163f7fd7"
      },
      "outputs": [
        {
          "data": {
            "text/html": [
              "<div>\n",
              "<style scoped>\n",
              "    .dataframe tbody tr th:only-of-type {\n",
              "        vertical-align: middle;\n",
              "    }\n",
              "\n",
              "    .dataframe tbody tr th {\n",
              "        vertical-align: top;\n",
              "    }\n",
              "\n",
              "    .dataframe thead th {\n",
              "        text-align: right;\n",
              "    }\n",
              "</style>\n",
              "<table border=\"1\" class=\"dataframe\">\n",
              "  <thead>\n",
              "    <tr style=\"text-align: right;\">\n",
              "      <th></th>\n",
              "      <th>0</th>\n",
              "    </tr>\n",
              "  </thead>\n",
              "  <tbody>\n",
              "    <tr>\n",
              "      <th>0</th>\n",
              "      <td>Maçã</td>\n",
              "    </tr>\n",
              "    <tr>\n",
              "      <th>1</th>\n",
              "      <td>Banana</td>\n",
              "    </tr>\n",
              "    <tr>\n",
              "      <th>2</th>\n",
              "      <td>Arroz</td>\n",
              "    </tr>\n",
              "    <tr>\n",
              "      <th>3</th>\n",
              "      <td>Arroz</td>\n",
              "    </tr>\n",
              "    <tr>\n",
              "      <th>4</th>\n",
              "      <td>NaN</td>\n",
              "    </tr>\n",
              "    <tr>\n",
              "      <th>5</th>\n",
              "      <td>Batata</td>\n",
              "    </tr>\n",
              "  </tbody>\n",
              "</table>\n",
              "</div><br><label><b>dtype:</b> object</label>"
            ],
            "text/plain": [
              "0      Maçã\n",
              "1    Banana\n",
              "2     Arroz\n",
              "3     Arroz\n",
              "4       NaN\n",
              "5    Batata\n",
              "dtype: object"
            ]
          },
          "execution_count": 14,
          "metadata": {},
          "output_type": "execute_result"
        }
      ],
      "source": [
        "serie_faltante_str = pd.Series([\"Maçã\", \"Banana\", \"Arroz\", \"Arroz\", np.nan, \"Batata\"])\n",
        "serie_faltante_str"
      ]
    },
    {
      "cell_type": "markdown",
      "metadata": {
        "id": "ltIPvl3Q4iiJ"
      },
      "source": [
        "#### Preenchimento\n"
      ]
    },
    {
      "cell_type": "markdown",
      "metadata": {
        "id": "zNIEaVqJ40l5"
      },
      "source": [
        "Uma forma de lidar com valores faltantes nessa situação é preenchê-lo com um valor que não existe na database"
      ]
    },
    {
      "cell_type": "code",
      "execution_count": null,
      "metadata": {
        "colab": {
          "base_uri": "https://localhost:8080/",
          "height": 303
        },
        "collapsed": true,
        "id": "hthperz94rrC",
        "outputId": "ff3b2788-57b3-45ff-d304-3b61a261aef3"
      },
      "outputs": [
        {
          "data": {
            "text/html": [
              "<div>\n",
              "<style scoped>\n",
              "    .dataframe tbody tr th:only-of-type {\n",
              "        vertical-align: middle;\n",
              "    }\n",
              "\n",
              "    .dataframe tbody tr th {\n",
              "        vertical-align: top;\n",
              "    }\n",
              "\n",
              "    .dataframe thead th {\n",
              "        text-align: right;\n",
              "    }\n",
              "</style>\n",
              "<table border=\"1\" class=\"dataframe\">\n",
              "  <thead>\n",
              "    <tr style=\"text-align: right;\">\n",
              "      <th></th>\n",
              "      <th>0</th>\n",
              "    </tr>\n",
              "  </thead>\n",
              "  <tbody>\n",
              "    <tr>\n",
              "      <th>0</th>\n",
              "      <td>1.0</td>\n",
              "    </tr>\n",
              "    <tr>\n",
              "      <th>1</th>\n",
              "      <td>2.0</td>\n",
              "    </tr>\n",
              "    <tr>\n",
              "      <th>2</th>\n",
              "      <td>3.0</td>\n",
              "    </tr>\n",
              "    <tr>\n",
              "      <th>3</th>\n",
              "      <td>4.0</td>\n",
              "    </tr>\n",
              "    <tr>\n",
              "      <th>4</th>\n",
              "      <td>Não contém</td>\n",
              "    </tr>\n",
              "    <tr>\n",
              "      <th>5</th>\n",
              "      <td>5.0</td>\n",
              "    </tr>\n",
              "    <tr>\n",
              "      <th>6</th>\n",
              "      <td>Não contém</td>\n",
              "    </tr>\n",
              "  </tbody>\n",
              "</table>\n",
              "</div><br><label><b>dtype:</b> object</label>"
            ],
            "text/plain": [
              "0           1.0\n",
              "1           2.0\n",
              "2           3.0\n",
              "3           4.0\n",
              "4    Não contém\n",
              "5           5.0\n",
              "6    Não contém\n",
              "dtype: object"
            ]
          },
          "execution_count": 15,
          "metadata": {},
          "output_type": "execute_result"
        }
      ],
      "source": [
        "serie_faltante.fillna(\"Não contém\")"
      ]
    },
    {
      "cell_type": "markdown",
      "metadata": {
        "id": "upQPDwo_42da"
      },
      "source": [
        "Outra forma de preencher os valores é usando a moda (valor mais recorrente da base de dados) e isso é feito usando o comando `Serie.mode().loc[0]` uma vez que o comando retorna uma Serie cujo elemento é a moda, passamos esse comando nos parâmetros de **fillan()**"
      ]
    },
    {
      "cell_type": "code",
      "execution_count": null,
      "metadata": {
        "colab": {
          "base_uri": "https://localhost:8080/",
          "height": 272
        },
        "collapsed": true,
        "id": "CXuKJ0bN48jQ",
        "outputId": "932ad402-6b8f-43f2-ece3-acff6082112c"
      },
      "outputs": [
        {
          "data": {
            "text/html": [
              "<div>\n",
              "<style scoped>\n",
              "    .dataframe tbody tr th:only-of-type {\n",
              "        vertical-align: middle;\n",
              "    }\n",
              "\n",
              "    .dataframe tbody tr th {\n",
              "        vertical-align: top;\n",
              "    }\n",
              "\n",
              "    .dataframe thead th {\n",
              "        text-align: right;\n",
              "    }\n",
              "</style>\n",
              "<table border=\"1\" class=\"dataframe\">\n",
              "  <thead>\n",
              "    <tr style=\"text-align: right;\">\n",
              "      <th></th>\n",
              "      <th>0</th>\n",
              "    </tr>\n",
              "  </thead>\n",
              "  <tbody>\n",
              "    <tr>\n",
              "      <th>0</th>\n",
              "      <td>Maçã</td>\n",
              "    </tr>\n",
              "    <tr>\n",
              "      <th>1</th>\n",
              "      <td>Banana</td>\n",
              "    </tr>\n",
              "    <tr>\n",
              "      <th>2</th>\n",
              "      <td>Arroz</td>\n",
              "    </tr>\n",
              "    <tr>\n",
              "      <th>3</th>\n",
              "      <td>Arroz</td>\n",
              "    </tr>\n",
              "    <tr>\n",
              "      <th>4</th>\n",
              "      <td>Arroz</td>\n",
              "    </tr>\n",
              "    <tr>\n",
              "      <th>5</th>\n",
              "      <td>Batata</td>\n",
              "    </tr>\n",
              "  </tbody>\n",
              "</table>\n",
              "</div><br><label><b>dtype:</b> object</label>"
            ],
            "text/plain": [
              "0      Maçã\n",
              "1    Banana\n",
              "2     Arroz\n",
              "3     Arroz\n",
              "4     Arroz\n",
              "5    Batata\n",
              "dtype: object"
            ]
          },
          "execution_count": 17,
          "metadata": {},
          "output_type": "execute_result"
        }
      ],
      "source": [
        "serie_faltante_str.fillna(serie_faltante_str.mode().loc[0])"
      ]
    },
    {
      "cell_type": "markdown",
      "metadata": {
        "id": "xLHmzO-VQjkF"
      },
      "source": [
        "## Funções"
      ]
    },
    {
      "cell_type": "markdown",
      "metadata": {
        "id": "99uZY9li6Blz"
      },
      "source": [
        "Suponha uma base de dados onde há algumas pessoas com idade menor que 18 e precisamos converter todas essas para 18.\n"
      ]
    },
    {
      "cell_type": "code",
      "execution_count": null,
      "metadata": {
        "colab": {
          "base_uri": "https://localhost:8080/",
          "height": 458
        },
        "collapsed": true,
        "id": "FvBq5I8m7OI4",
        "outputId": "1f9845e4-9586-4c6c-fb4f-544222419413"
      },
      "outputs": [
        {
          "data": {
            "text/html": [
              "<div>\n",
              "<style scoped>\n",
              "    .dataframe tbody tr th:only-of-type {\n",
              "        vertical-align: middle;\n",
              "    }\n",
              "\n",
              "    .dataframe tbody tr th {\n",
              "        vertical-align: top;\n",
              "    }\n",
              "\n",
              "    .dataframe thead th {\n",
              "        text-align: right;\n",
              "    }\n",
              "</style>\n",
              "<table border=\"1\" class=\"dataframe\">\n",
              "  <thead>\n",
              "    <tr style=\"text-align: right;\">\n",
              "      <th></th>\n",
              "      <th>0</th>\n",
              "    </tr>\n",
              "  </thead>\n",
              "  <tbody>\n",
              "    <tr>\n",
              "      <th>106</th>\n",
              "      <td>17</td>\n",
              "    </tr>\n",
              "    <tr>\n",
              "      <th>209</th>\n",
              "      <td>17</td>\n",
              "    </tr>\n",
              "    <tr>\n",
              "      <th>262</th>\n",
              "      <td>17</td>\n",
              "    </tr>\n",
              "    <tr>\n",
              "      <th>271</th>\n",
              "      <td>17</td>\n",
              "    </tr>\n",
              "    <tr>\n",
              "      <th>335</th>\n",
              "      <td>17</td>\n",
              "    </tr>\n",
              "    <tr>\n",
              "      <th>...</th>\n",
              "      <td>...</td>\n",
              "    </tr>\n",
              "    <tr>\n",
              "      <th>31772</th>\n",
              "      <td>17</td>\n",
              "    </tr>\n",
              "    <tr>\n",
              "      <th>31864</th>\n",
              "      <td>17</td>\n",
              "    </tr>\n",
              "    <tr>\n",
              "      <th>31959</th>\n",
              "      <td>17</td>\n",
              "    </tr>\n",
              "    <tr>\n",
              "      <th>32282</th>\n",
              "      <td>17</td>\n",
              "    </tr>\n",
              "    <tr>\n",
              "      <th>32447</th>\n",
              "      <td>17</td>\n",
              "    </tr>\n",
              "  </tbody>\n",
              "</table>\n",
              "<p>395 rows × 1 columns</p>\n",
              "</div><br><label><b>dtype:</b> int64</label>"
            ],
            "text/plain": [
              "106      17\n",
              "209      17\n",
              "262      17\n",
              "271      17\n",
              "335      17\n",
              "         ..\n",
              "31772    17\n",
              "31864    17\n",
              "31959    17\n",
              "32282    17\n",
              "32447    17\n",
              "Length: 395, dtype: int64"
            ]
          },
          "execution_count": 24,
          "metadata": {},
          "output_type": "execute_result"
        }
      ],
      "source": [
        "serie_idades.loc[serie_idades < 18]"
      ]
    },
    {
      "cell_type": "markdown",
      "metadata": {
        "id": "MtzZFA2s9Ro-"
      },
      "source": [
        "#### Usando Funções Comuns"
      ]
    },
    {
      "cell_type": "markdown",
      "metadata": {
        "id": "juezKsF172fl"
      },
      "source": [
        "Nessa situação, podemos usar uma função que será passada pela base de dados e converterá toda idade menor que 18 para 18"
      ]
    },
    {
      "cell_type": "code",
      "execution_count": null,
      "metadata": {
        "id": "ZpaFiuJf7eS_"
      },
      "outputs": [],
      "source": [
        "def fix_age(age):\n",
        "  if age < 18: age = 18\n",
        "  return age"
      ]
    },
    {
      "cell_type": "markdown",
      "metadata": {
        "id": "UEBPRJQ28MkL"
      },
      "source": [
        "Para fazer tal coisa, existe um método do Pandas cuja funcionalidade é exatamente aplicar uma função para todas as linhas da base de dados e a sintaxe é: `Serie.apply(<function>)`.\n",
        "Esse método devolve uma segunda Serie então é preciso salvar esse retorno em algum lugar nem que seja a Serie na qual ela é chamada"
      ]
    },
    {
      "cell_type": "code",
      "execution_count": null,
      "metadata": {
        "id": "M6lH3kEe8bil"
      },
      "outputs": [],
      "source": [
        "serie_idades = serie_idades.apply(fix_age)"
      ]
    },
    {
      "cell_type": "markdown",
      "metadata": {
        "id": "8KihplIB9Eix"
      },
      "source": [
        "Caso o mesmo filtro de antes seja aplicado, ele não retornará nada pois não haverá nenhum registro menor que 18"
      ]
    },
    {
      "cell_type": "code",
      "execution_count": null,
      "metadata": {
        "colab": {
          "base_uri": "https://localhost:8080/",
          "height": 84
        },
        "collapsed": true,
        "id": "5GY8y0pI85Me",
        "outputId": "6fdc02e3-9d4a-4adc-a1a9-98605b8a1ab1"
      },
      "outputs": [
        {
          "data": {
            "text/html": [
              "<div>\n",
              "<style scoped>\n",
              "    .dataframe tbody tr th:only-of-type {\n",
              "        vertical-align: middle;\n",
              "    }\n",
              "\n",
              "    .dataframe tbody tr th {\n",
              "        vertical-align: top;\n",
              "    }\n",
              "\n",
              "    .dataframe thead th {\n",
              "        text-align: right;\n",
              "    }\n",
              "</style>\n",
              "<table border=\"1\" class=\"dataframe\">\n",
              "  <thead>\n",
              "    <tr style=\"text-align: right;\">\n",
              "      <th></th>\n",
              "      <th>0</th>\n",
              "    </tr>\n",
              "  </thead>\n",
              "  <tbody>\n",
              "  </tbody>\n",
              "</table>\n",
              "</div><br><label><b>dtype:</b> int64</label>"
            ],
            "text/plain": [
              "Series([], dtype: int64)"
            ]
          },
          "execution_count": 32,
          "metadata": {},
          "output_type": "execute_result"
        }
      ],
      "source": [
        "serie_idades.loc[serie_idades < 18]"
      ]
    },
    {
      "cell_type": "markdown",
      "metadata": {
        "id": "hdahfvJg9VfK"
      },
      "source": [
        "#### Usando Lambda"
      ]
    },
    {
      "cell_type": "markdown",
      "metadata": {
        "id": "4nKsNBMB9bvd"
      },
      "source": [
        "Outra forma de abordar tal problemática é fazendo uso de funções anônimas, construíndo a função dentro do parâmetro do apply ao invés de construí-la fora e passar seu nome.\n",
        "*O comando abaixo transforma todas as idades que são 18 em 17, para cada registro na base de dados.*"
      ]
    },
    {
      "cell_type": "code",
      "execution_count": null,
      "metadata": {
        "id": "oUNDCu2X9bJa"
      },
      "outputs": [],
      "source": [
        "serie_idades = serie_idades.apply(lambda x: 17 if x == 18 else x)"
      ]
    },
    {
      "cell_type": "markdown",
      "metadata": {
        "id": "P3QAhpgM-mJ-"
      },
      "source": [
        "#### Comando Where\n",
        "O pandas fornece um comando para efetuar uma operação em determinados registros que não satisfazem uma condição, o where: `Serie.where(<Conditional>, x)` para os registros que retornarem False à condição, seus valores passarão a ser x."
      ]
    },
    {
      "cell_type": "code",
      "execution_count": null,
      "metadata": {
        "colab": {
          "base_uri": "https://localhost:8080/",
          "height": 397
        },
        "id": "23NYMnWI_H2n",
        "outputId": "64a9db3a-301d-4fb7-85bb-2bf24f1cc9f5"
      },
      "outputs": [
        {
          "data": {
            "text/html": [
              "<div>\n",
              "<style scoped>\n",
              "    .dataframe tbody tr th:only-of-type {\n",
              "        vertical-align: middle;\n",
              "    }\n",
              "\n",
              "    .dataframe tbody tr th {\n",
              "        vertical-align: top;\n",
              "    }\n",
              "\n",
              "    .dataframe thead th {\n",
              "        text-align: right;\n",
              "    }\n",
              "</style>\n",
              "<table border=\"1\" class=\"dataframe\">\n",
              "  <thead>\n",
              "    <tr style=\"text-align: right;\">\n",
              "      <th></th>\n",
              "      <th>0</th>\n",
              "    </tr>\n",
              "  </thead>\n",
              "  <tbody>\n",
              "    <tr>\n",
              "      <th>0</th>\n",
              "      <td>39</td>\n",
              "    </tr>\n",
              "    <tr>\n",
              "      <th>1</th>\n",
              "      <td>50</td>\n",
              "    </tr>\n",
              "    <tr>\n",
              "      <th>2</th>\n",
              "      <td>38</td>\n",
              "    </tr>\n",
              "    <tr>\n",
              "      <th>3</th>\n",
              "      <td>53</td>\n",
              "    </tr>\n",
              "    <tr>\n",
              "      <th>4</th>\n",
              "      <td>28</td>\n",
              "    </tr>\n",
              "    <tr>\n",
              "      <th>5</th>\n",
              "      <td>37</td>\n",
              "    </tr>\n",
              "    <tr>\n",
              "      <th>6</th>\n",
              "      <td>49</td>\n",
              "    </tr>\n",
              "    <tr>\n",
              "      <th>7</th>\n",
              "      <td>52</td>\n",
              "    </tr>\n",
              "    <tr>\n",
              "      <th>8</th>\n",
              "      <td>31</td>\n",
              "    </tr>\n",
              "    <tr>\n",
              "      <th>9</th>\n",
              "      <td>42</td>\n",
              "    </tr>\n",
              "  </tbody>\n",
              "</table>\n",
              "</div><br><label><b>dtype:</b> int64</label>"
            ],
            "text/plain": [
              "0    39\n",
              "1    50\n",
              "2    38\n",
              "3    53\n",
              "4    28\n",
              "5    37\n",
              "6    49\n",
              "7    52\n",
              "8    31\n",
              "9    42\n",
              "dtype: int64"
            ]
          },
          "execution_count": 36,
          "metadata": {},
          "output_type": "execute_result"
        }
      ],
      "source": [
        "serie_idadeII = serie_idades.iloc[0:10]\n",
        "serie_idadeII"
      ]
    },
    {
      "cell_type": "markdown",
      "metadata": {
        "id": "gRDmOFeO_p1l"
      },
      "source": [
        "No código abaixo: todos os valores que forem *maiores* que 30 (que retoram False à condicional), seu novo valor passará a ser zero"
      ]
    },
    {
      "cell_type": "code",
      "execution_count": null,
      "metadata": {
        "colab": {
          "base_uri": "https://localhost:8080/",
          "height": 397
        },
        "collapsed": true,
        "id": "n1Nb_T76_Pyt",
        "outputId": "17cd2362-a7ed-44d7-fac1-f0d6bf8e8dc4"
      },
      "outputs": [
        {
          "data": {
            "text/html": [
              "<div>\n",
              "<style scoped>\n",
              "    .dataframe tbody tr th:only-of-type {\n",
              "        vertical-align: middle;\n",
              "    }\n",
              "\n",
              "    .dataframe tbody tr th {\n",
              "        vertical-align: top;\n",
              "    }\n",
              "\n",
              "    .dataframe thead th {\n",
              "        text-align: right;\n",
              "    }\n",
              "</style>\n",
              "<table border=\"1\" class=\"dataframe\">\n",
              "  <thead>\n",
              "    <tr style=\"text-align: right;\">\n",
              "      <th></th>\n",
              "      <th>0</th>\n",
              "    </tr>\n",
              "  </thead>\n",
              "  <tbody>\n",
              "    <tr>\n",
              "      <th>0</th>\n",
              "      <td>0</td>\n",
              "    </tr>\n",
              "    <tr>\n",
              "      <th>1</th>\n",
              "      <td>0</td>\n",
              "    </tr>\n",
              "    <tr>\n",
              "      <th>2</th>\n",
              "      <td>0</td>\n",
              "    </tr>\n",
              "    <tr>\n",
              "      <th>3</th>\n",
              "      <td>0</td>\n",
              "    </tr>\n",
              "    <tr>\n",
              "      <th>4</th>\n",
              "      <td>28</td>\n",
              "    </tr>\n",
              "    <tr>\n",
              "      <th>5</th>\n",
              "      <td>0</td>\n",
              "    </tr>\n",
              "    <tr>\n",
              "      <th>6</th>\n",
              "      <td>0</td>\n",
              "    </tr>\n",
              "    <tr>\n",
              "      <th>7</th>\n",
              "      <td>0</td>\n",
              "    </tr>\n",
              "    <tr>\n",
              "      <th>8</th>\n",
              "      <td>0</td>\n",
              "    </tr>\n",
              "    <tr>\n",
              "      <th>9</th>\n",
              "      <td>0</td>\n",
              "    </tr>\n",
              "  </tbody>\n",
              "</table>\n",
              "</div><br><label><b>dtype:</b> int64</label>"
            ],
            "text/plain": [
              "0     0\n",
              "1     0\n",
              "2     0\n",
              "3     0\n",
              "4    28\n",
              "5     0\n",
              "6     0\n",
              "7     0\n",
              "8     0\n",
              "9     0\n",
              "dtype: int64"
            ]
          },
          "execution_count": 41,
          "metadata": {},
          "output_type": "execute_result"
        }
      ],
      "source": [
        "serie_idadeII.where(serie_idadeII < 30, 0)\n"
      ]
    },
    {
      "cell_type": "code",
      "execution_count": null,
      "metadata": {
        "colab": {
          "base_uri": "https://localhost:8080/",
          "height": 397
        },
        "id": "vHDMDoEM_5cC",
        "outputId": "c8990790-d40b-468b-eec5-5d1babfc11c4"
      },
      "outputs": [
        {
          "data": {
            "text/html": [
              "<div>\n",
              "<style scoped>\n",
              "    .dataframe tbody tr th:only-of-type {\n",
              "        vertical-align: middle;\n",
              "    }\n",
              "\n",
              "    .dataframe tbody tr th {\n",
              "        vertical-align: top;\n",
              "    }\n",
              "\n",
              "    .dataframe thead th {\n",
              "        text-align: right;\n",
              "    }\n",
              "</style>\n",
              "<table border=\"1\" class=\"dataframe\">\n",
              "  <thead>\n",
              "    <tr style=\"text-align: right;\">\n",
              "      <th></th>\n",
              "      <th>0</th>\n",
              "    </tr>\n",
              "  </thead>\n",
              "  <tbody>\n",
              "    <tr>\n",
              "      <th>0</th>\n",
              "      <td>39</td>\n",
              "    </tr>\n",
              "    <tr>\n",
              "      <th>1</th>\n",
              "      <td>50</td>\n",
              "    </tr>\n",
              "    <tr>\n",
              "      <th>2</th>\n",
              "      <td>38</td>\n",
              "    </tr>\n",
              "    <tr>\n",
              "      <th>3</th>\n",
              "      <td>53</td>\n",
              "    </tr>\n",
              "    <tr>\n",
              "      <th>4</th>\n",
              "      <td>28</td>\n",
              "    </tr>\n",
              "    <tr>\n",
              "      <th>5</th>\n",
              "      <td>37</td>\n",
              "    </tr>\n",
              "    <tr>\n",
              "      <th>6</th>\n",
              "      <td>49</td>\n",
              "    </tr>\n",
              "    <tr>\n",
              "      <th>7</th>\n",
              "      <td>52</td>\n",
              "    </tr>\n",
              "    <tr>\n",
              "      <th>8</th>\n",
              "      <td>31</td>\n",
              "    </tr>\n",
              "    <tr>\n",
              "      <th>9</th>\n",
              "      <td>42</td>\n",
              "    </tr>\n",
              "  </tbody>\n",
              "</table>\n",
              "</div><br><label><b>dtype:</b> int64</label>"
            ],
            "text/plain": [
              "0    39\n",
              "1    50\n",
              "2    38\n",
              "3    53\n",
              "4    28\n",
              "5    37\n",
              "6    49\n",
              "7    52\n",
              "8    31\n",
              "9    42\n",
              "dtype: int64"
            ]
          },
          "execution_count": 42,
          "metadata": {},
          "output_type": "execute_result"
        }
      ],
      "source": [
        "serie_idadeII"
      ]
    }
  ],
  "metadata": {
    "colab": {
      "provenance": []
    },
    "kernelspec": {
      "display_name": "base",
      "language": "python",
      "name": "python3"
    },
    "language_info": {
      "codemirror_mode": {
        "name": "ipython",
        "version": 3
      },
      "file_extension": ".py",
      "mimetype": "text/x-python",
      "name": "python",
      "nbconvert_exporter": "python",
      "pygments_lexer": "ipython3",
      "version": "3.12.7"
    }
  },
  "nbformat": 4,
  "nbformat_minor": 0
}
